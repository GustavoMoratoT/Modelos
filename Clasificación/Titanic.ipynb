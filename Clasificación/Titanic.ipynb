{
 "cells": [
  {
   "cell_type": "code",
   "execution_count": 1,
   "id": "e42e51be",
   "metadata": {},
   "outputs": [
    {
     "name": "stderr",
     "output_type": "stream",
     "text": [
      "C:\\Users\\GUSTAVO\\AppData\\Local\\Temp\\ipykernel_8792\\308346030.py:1: DeprecationWarning: Importing display from IPython.core.display is deprecated since IPython 7.14, please import from IPython display\n",
      "  from IPython.core.display import display, HTML\n"
     ]
    },
    {
     "data": {
      "text/html": [
       "<style>.container{ width:95% }</style>"
      ],
      "text/plain": [
       "<IPython.core.display.HTML object>"
      ]
     },
     "metadata": {},
     "output_type": "display_data"
    }
   ],
   "source": [
    "from IPython.core.display import display, HTML\n",
    "display(HTML(\"<style>.container{ width:95% }</style>\"))\n",
    "\n",
    "\n",
    "import seaborn as sns\n",
    "import numpy as np\n",
    "import pandas as pd\n",
    "import matplotlib.pyplot as plt\n",
    "\n",
    "from sklearn.model_selection import train_test_split\n",
    "from sklearn.model_selection import cross_val_score\n",
    "from sklearn.model_selection import GridSearchCV\n",
    "from sklearn.model_selection import KFold\n",
    "from sklearn.impute import KNNImputer\n",
    "\n",
    "from sklearn.metrics import classification_report\n",
    "from sklearn.metrics import confusion_matrix\n",
    "from sklearn.metrics import accuracy_score\n",
    "\n",
    "from sklearn.pipeline import Pipeline\n",
    "\n",
    "from sklearn.linear_model import LogisticRegression\n",
    "from catboost import CatBoostClassifier\n",
    "from sklearn.tree import DecisionTreeClassifier\n",
    "from sklearn.neighbors import KNeighborsClassifier\n",
    "from sklearn.discriminant_analysis import LinearDiscriminantAnalysis\n",
    "from sklearn.naive_bayes import GaussianNB\n",
    "from sklearn.svm import SVC\n",
    "from sklearn.ensemble import AdaBoostClassifier\n",
    "from sklearn.ensemble import GradientBoostingClassifier\n",
    "from sklearn.ensemble import RandomForestClassifier\n",
    "from sklearn.ensemble import ExtraTreesClassifier\n",
    "from sklearn.ensemble import BaggingClassifier\n",
    "from sklearn.ensemble import VotingClassifier\n",
    "from xgboost import XGBClassifier\n",
    "\n",
    "from sklearn.preprocessing import StandardScaler\n",
    "from sklearn.preprocessing import MinMaxScaler\n",
    "from sklearn.preprocessing import PowerTransformer\n",
    "from sklearn.impute import KNNImputer\n",
    "\n",
    "import tensorflow as tf\n",
    "from tensorflow.keras import layers\n",
    "\n",
    "import warnings\n",
    "warnings.filterwarnings('ignore')"
   ]
  },
  {
   "cell_type": "markdown",
   "id": "bf9396bf",
   "metadata": {},
   "source": [
    "# Se analizará una Base de Datos de Kaggle, sobre información del Titanic"
   ]
  },
  {
   "cell_type": "code",
   "execution_count": 91,
   "id": "a7f17745",
   "metadata": {},
   "outputs": [
    {
     "data": {
      "text/html": [
       "<div>\n",
       "<style scoped>\n",
       "    .dataframe tbody tr th:only-of-type {\n",
       "        vertical-align: middle;\n",
       "    }\n",
       "\n",
       "    .dataframe tbody tr th {\n",
       "        vertical-align: top;\n",
       "    }\n",
       "\n",
       "    .dataframe thead th {\n",
       "        text-align: right;\n",
       "    }\n",
       "</style>\n",
       "<table border=\"1\" class=\"dataframe\">\n",
       "  <thead>\n",
       "    <tr style=\"text-align: right;\">\n",
       "      <th></th>\n",
       "      <th>Survived</th>\n",
       "      <th>Pclass</th>\n",
       "      <th>Name</th>\n",
       "      <th>Sex</th>\n",
       "      <th>Age</th>\n",
       "      <th>SibSp</th>\n",
       "      <th>Parch</th>\n",
       "      <th>Ticket</th>\n",
       "      <th>Fare</th>\n",
       "      <th>Cabin</th>\n",
       "      <th>Embarked</th>\n",
       "    </tr>\n",
       "    <tr>\n",
       "      <th>PassengerId</th>\n",
       "      <th></th>\n",
       "      <th></th>\n",
       "      <th></th>\n",
       "      <th></th>\n",
       "      <th></th>\n",
       "      <th></th>\n",
       "      <th></th>\n",
       "      <th></th>\n",
       "      <th></th>\n",
       "      <th></th>\n",
       "      <th></th>\n",
       "    </tr>\n",
       "  </thead>\n",
       "  <tbody>\n",
       "    <tr>\n",
       "      <th>1</th>\n",
       "      <td>0</td>\n",
       "      <td>3</td>\n",
       "      <td>Braund, Mr. Owen Harris</td>\n",
       "      <td>male</td>\n",
       "      <td>22.0</td>\n",
       "      <td>1</td>\n",
       "      <td>0</td>\n",
       "      <td>A/5 21171</td>\n",
       "      <td>7.2500</td>\n",
       "      <td>NaN</td>\n",
       "      <td>S</td>\n",
       "    </tr>\n",
       "    <tr>\n",
       "      <th>2</th>\n",
       "      <td>1</td>\n",
       "      <td>1</td>\n",
       "      <td>Cumings, Mrs. John Bradley (Florence Briggs Th...</td>\n",
       "      <td>female</td>\n",
       "      <td>38.0</td>\n",
       "      <td>1</td>\n",
       "      <td>0</td>\n",
       "      <td>PC 17599</td>\n",
       "      <td>71.2833</td>\n",
       "      <td>C85</td>\n",
       "      <td>C</td>\n",
       "    </tr>\n",
       "    <tr>\n",
       "      <th>3</th>\n",
       "      <td>1</td>\n",
       "      <td>3</td>\n",
       "      <td>Heikkinen, Miss. Laina</td>\n",
       "      <td>female</td>\n",
       "      <td>26.0</td>\n",
       "      <td>0</td>\n",
       "      <td>0</td>\n",
       "      <td>STON/O2. 3101282</td>\n",
       "      <td>7.9250</td>\n",
       "      <td>NaN</td>\n",
       "      <td>S</td>\n",
       "    </tr>\n",
       "    <tr>\n",
       "      <th>4</th>\n",
       "      <td>1</td>\n",
       "      <td>1</td>\n",
       "      <td>Futrelle, Mrs. Jacques Heath (Lily May Peel)</td>\n",
       "      <td>female</td>\n",
       "      <td>35.0</td>\n",
       "      <td>1</td>\n",
       "      <td>0</td>\n",
       "      <td>113803</td>\n",
       "      <td>53.1000</td>\n",
       "      <td>C123</td>\n",
       "      <td>S</td>\n",
       "    </tr>\n",
       "    <tr>\n",
       "      <th>5</th>\n",
       "      <td>0</td>\n",
       "      <td>3</td>\n",
       "      <td>Allen, Mr. William Henry</td>\n",
       "      <td>male</td>\n",
       "      <td>35.0</td>\n",
       "      <td>0</td>\n",
       "      <td>0</td>\n",
       "      <td>373450</td>\n",
       "      <td>8.0500</td>\n",
       "      <td>NaN</td>\n",
       "      <td>S</td>\n",
       "    </tr>\n",
       "  </tbody>\n",
       "</table>\n",
       "</div>"
      ],
      "text/plain": [
       "             Survived  Pclass  \\\n",
       "PassengerId                     \n",
       "1                   0       3   \n",
       "2                   1       1   \n",
       "3                   1       3   \n",
       "4                   1       1   \n",
       "5                   0       3   \n",
       "\n",
       "                                                          Name     Sex   Age  \\\n",
       "PassengerId                                                                    \n",
       "1                                      Braund, Mr. Owen Harris    male  22.0   \n",
       "2            Cumings, Mrs. John Bradley (Florence Briggs Th...  female  38.0   \n",
       "3                                       Heikkinen, Miss. Laina  female  26.0   \n",
       "4                 Futrelle, Mrs. Jacques Heath (Lily May Peel)  female  35.0   \n",
       "5                                     Allen, Mr. William Henry    male  35.0   \n",
       "\n",
       "             SibSp  Parch            Ticket     Fare Cabin Embarked  \n",
       "PassengerId                                                          \n",
       "1                1      0         A/5 21171   7.2500   NaN        S  \n",
       "2                1      0          PC 17599  71.2833   C85        C  \n",
       "3                0      0  STON/O2. 3101282   7.9250   NaN        S  \n",
       "4                1      0            113803  53.1000  C123        S  \n",
       "5                0      0            373450   8.0500   NaN        S  "
      ]
     },
     "execution_count": 91,
     "metadata": {},
     "output_type": "execute_result"
    }
   ],
   "source": [
    "df = pd.read_csv(r\"train.csv\", index_col=\"PassengerId\")\n",
    "df.head()"
   ]
  },
  {
   "cell_type": "code",
   "execution_count": 92,
   "id": "13224b1f",
   "metadata": {},
   "outputs": [
    {
     "data": {
      "text/plain": [
       "(891, 11)"
      ]
     },
     "execution_count": 92,
     "metadata": {},
     "output_type": "execute_result"
    }
   ],
   "source": [
    "df.shape"
   ]
  },
  {
   "cell_type": "code",
   "execution_count": 93,
   "id": "dca4ab52",
   "metadata": {},
   "outputs": [
    {
     "name": "stdout",
     "output_type": "stream",
     "text": [
      "<class 'pandas.core.frame.DataFrame'>\n",
      "Int64Index: 891 entries, 1 to 891\n",
      "Data columns (total 11 columns):\n",
      " #   Column    Non-Null Count  Dtype  \n",
      "---  ------    --------------  -----  \n",
      " 0   Survived  891 non-null    int64  \n",
      " 1   Pclass    891 non-null    int64  \n",
      " 2   Name      891 non-null    object \n",
      " 3   Sex       891 non-null    object \n",
      " 4   Age       714 non-null    float64\n",
      " 5   SibSp     891 non-null    int64  \n",
      " 6   Parch     891 non-null    int64  \n",
      " 7   Ticket    891 non-null    object \n",
      " 8   Fare      891 non-null    float64\n",
      " 9   Cabin     204 non-null    object \n",
      " 10  Embarked  889 non-null    object \n",
      "dtypes: float64(2), int64(4), object(5)\n",
      "memory usage: 83.5+ KB\n"
     ]
    }
   ],
   "source": [
    "df.info()"
   ]
  },
  {
   "cell_type": "code",
   "execution_count": 94,
   "id": "1434ee42",
   "metadata": {},
   "outputs": [],
   "source": [
    "name_DF = df['Name'].str.split(' ', expand=True)\n",
    "del df[\"Name\"]\n",
    "df[\"Name\"] = name_DF.iloc[:,1]"
   ]
  },
  {
   "cell_type": "code",
   "execution_count": 95,
   "id": "875829ec",
   "metadata": {},
   "outputs": [
    {
     "data": {
      "text/html": [
       "<div>\n",
       "<style scoped>\n",
       "    .dataframe tbody tr th:only-of-type {\n",
       "        vertical-align: middle;\n",
       "    }\n",
       "\n",
       "    .dataframe tbody tr th {\n",
       "        vertical-align: top;\n",
       "    }\n",
       "\n",
       "    .dataframe thead th {\n",
       "        text-align: right;\n",
       "    }\n",
       "</style>\n",
       "<table border=\"1\" class=\"dataframe\">\n",
       "  <thead>\n",
       "    <tr style=\"text-align: right;\">\n",
       "      <th></th>\n",
       "      <th>Survived</th>\n",
       "      <th>Pclass</th>\n",
       "      <th>Sex</th>\n",
       "      <th>Age</th>\n",
       "      <th>SibSp</th>\n",
       "      <th>Parch</th>\n",
       "      <th>Fare</th>\n",
       "      <th>Embarked</th>\n",
       "      <th>Name</th>\n",
       "    </tr>\n",
       "    <tr>\n",
       "      <th>PassengerId</th>\n",
       "      <th></th>\n",
       "      <th></th>\n",
       "      <th></th>\n",
       "      <th></th>\n",
       "      <th></th>\n",
       "      <th></th>\n",
       "      <th></th>\n",
       "      <th></th>\n",
       "      <th></th>\n",
       "    </tr>\n",
       "  </thead>\n",
       "  <tbody>\n",
       "    <tr>\n",
       "      <th>1</th>\n",
       "      <td>0</td>\n",
       "      <td>3</td>\n",
       "      <td>male</td>\n",
       "      <td>22.0</td>\n",
       "      <td>1</td>\n",
       "      <td>0</td>\n",
       "      <td>7.2500</td>\n",
       "      <td>S</td>\n",
       "      <td>Mr.</td>\n",
       "    </tr>\n",
       "    <tr>\n",
       "      <th>2</th>\n",
       "      <td>1</td>\n",
       "      <td>1</td>\n",
       "      <td>female</td>\n",
       "      <td>38.0</td>\n",
       "      <td>1</td>\n",
       "      <td>0</td>\n",
       "      <td>71.2833</td>\n",
       "      <td>C</td>\n",
       "      <td>Mrs.</td>\n",
       "    </tr>\n",
       "    <tr>\n",
       "      <th>3</th>\n",
       "      <td>1</td>\n",
       "      <td>3</td>\n",
       "      <td>female</td>\n",
       "      <td>26.0</td>\n",
       "      <td>0</td>\n",
       "      <td>0</td>\n",
       "      <td>7.9250</td>\n",
       "      <td>S</td>\n",
       "      <td>Miss.</td>\n",
       "    </tr>\n",
       "    <tr>\n",
       "      <th>4</th>\n",
       "      <td>1</td>\n",
       "      <td>1</td>\n",
       "      <td>female</td>\n",
       "      <td>35.0</td>\n",
       "      <td>1</td>\n",
       "      <td>0</td>\n",
       "      <td>53.1000</td>\n",
       "      <td>S</td>\n",
       "      <td>Mrs.</td>\n",
       "    </tr>\n",
       "    <tr>\n",
       "      <th>5</th>\n",
       "      <td>0</td>\n",
       "      <td>3</td>\n",
       "      <td>male</td>\n",
       "      <td>35.0</td>\n",
       "      <td>0</td>\n",
       "      <td>0</td>\n",
       "      <td>8.0500</td>\n",
       "      <td>S</td>\n",
       "      <td>Mr.</td>\n",
       "    </tr>\n",
       "  </tbody>\n",
       "</table>\n",
       "</div>"
      ],
      "text/plain": [
       "             Survived  Pclass     Sex   Age  SibSp  Parch     Fare Embarked  \\\n",
       "PassengerId                                                                   \n",
       "1                   0       3    male  22.0      1      0   7.2500        S   \n",
       "2                   1       1  female  38.0      1      0  71.2833        C   \n",
       "3                   1       3  female  26.0      0      0   7.9250        S   \n",
       "4                   1       1  female  35.0      1      0  53.1000        S   \n",
       "5                   0       3    male  35.0      0      0   8.0500        S   \n",
       "\n",
       "              Name  \n",
       "PassengerId         \n",
       "1              Mr.  \n",
       "2             Mrs.  \n",
       "3            Miss.  \n",
       "4             Mrs.  \n",
       "5              Mr.  "
      ]
     },
     "execution_count": 95,
     "metadata": {},
     "output_type": "execute_result"
    }
   ],
   "source": [
    "del df[\"Ticket\"]\n",
    "del df[\"Cabin\"]\n",
    "df.head()"
   ]
  },
  {
   "cell_type": "code",
   "execution_count": 96,
   "id": "89469fd9",
   "metadata": {},
   "outputs": [
    {
     "data": {
      "text/plain": [
       "Mr.             502\n",
       "Miss.           179\n",
       "Mrs.            121\n",
       "Master.          40\n",
       "Dr.               7\n",
       "Rev.              6\n",
       "y                 4\n",
       "Planke,           3\n",
       "Impe,             3\n",
       "Gordon,           2\n",
       "Col.              2\n",
       "Mlle.             2\n",
       "Major.            2\n",
       "Melkebeke,        1\n",
       "Jonkheer.         1\n",
       "Shawah,           1\n",
       "the               1\n",
       "Velde,            1\n",
       "Capt.             1\n",
       "Messemaeker,      1\n",
       "Carlo,            1\n",
       "Ms.               1\n",
       "Mme.              1\n",
       "Steen,            1\n",
       "Mulder,           1\n",
       "Pelsmaeker,       1\n",
       "Walle,            1\n",
       "der               1\n",
       "Billiard,         1\n",
       "Don.              1\n",
       "Cruyssen,         1\n",
       "Name: Name, dtype: int64"
      ]
     },
     "execution_count": 96,
     "metadata": {},
     "output_type": "execute_result"
    }
   ],
   "source": [
    "df[\"Name\"].value_counts()"
   ]
  },
  {
   "cell_type": "code",
   "execution_count": 97,
   "id": "a6755f00",
   "metadata": {},
   "outputs": [],
   "source": [
    "name = []\n",
    "for i in df[\"Name\"]:\n",
    "    if i == \"Mr.\" or i == \"Miss.\" or i == \"Mrs.\" or i == \"Master.\" or i == \"Dr.\" or i == \"Rev.\":\n",
    "        name.append(i)\n",
    "    else:\n",
    "        name.append(\"Otros\")"
   ]
  },
  {
   "cell_type": "code",
   "execution_count": 98,
   "id": "9db6098a",
   "metadata": {},
   "outputs": [],
   "source": [
    "del df[\"Name\"]\n",
    "df[\"Name\"] = name"
   ]
  },
  {
   "cell_type": "code",
   "execution_count": 99,
   "id": "e6fdd2e8",
   "metadata": {},
   "outputs": [],
   "source": [
    "df[\"Parch_cat\"]= np.where(df[\"Parch\"] > 0, 1,0)\n",
    "df[\"SibSp_cat\"]= np.where(df[\"SibSp\"] > 0, 1,0)\n",
    "del df[\"SibSp\"]\n",
    "del df[\"Parch\"]"
   ]
  },
  {
   "cell_type": "code",
   "execution_count": 100,
   "id": "91b89ba7",
   "metadata": {},
   "outputs": [
    {
     "data": {
      "text/html": [
       "<div>\n",
       "<style scoped>\n",
       "    .dataframe tbody tr th:only-of-type {\n",
       "        vertical-align: middle;\n",
       "    }\n",
       "\n",
       "    .dataframe tbody tr th {\n",
       "        vertical-align: top;\n",
       "    }\n",
       "\n",
       "    .dataframe thead th {\n",
       "        text-align: right;\n",
       "    }\n",
       "</style>\n",
       "<table border=\"1\" class=\"dataframe\">\n",
       "  <thead>\n",
       "    <tr style=\"text-align: right;\">\n",
       "      <th></th>\n",
       "      <th>Survived</th>\n",
       "      <th>Pclass</th>\n",
       "      <th>Sex</th>\n",
       "      <th>Age</th>\n",
       "      <th>Fare</th>\n",
       "      <th>Embarked</th>\n",
       "      <th>Name</th>\n",
       "      <th>Parch_cat</th>\n",
       "      <th>SibSp_cat</th>\n",
       "    </tr>\n",
       "    <tr>\n",
       "      <th>PassengerId</th>\n",
       "      <th></th>\n",
       "      <th></th>\n",
       "      <th></th>\n",
       "      <th></th>\n",
       "      <th></th>\n",
       "      <th></th>\n",
       "      <th></th>\n",
       "      <th></th>\n",
       "      <th></th>\n",
       "    </tr>\n",
       "  </thead>\n",
       "  <tbody>\n",
       "    <tr>\n",
       "      <th>1</th>\n",
       "      <td>0</td>\n",
       "      <td>3</td>\n",
       "      <td>male</td>\n",
       "      <td>22.0</td>\n",
       "      <td>7.2500</td>\n",
       "      <td>S</td>\n",
       "      <td>Mr.</td>\n",
       "      <td>0</td>\n",
       "      <td>1</td>\n",
       "    </tr>\n",
       "    <tr>\n",
       "      <th>2</th>\n",
       "      <td>1</td>\n",
       "      <td>1</td>\n",
       "      <td>female</td>\n",
       "      <td>38.0</td>\n",
       "      <td>71.2833</td>\n",
       "      <td>C</td>\n",
       "      <td>Mrs.</td>\n",
       "      <td>0</td>\n",
       "      <td>1</td>\n",
       "    </tr>\n",
       "    <tr>\n",
       "      <th>3</th>\n",
       "      <td>1</td>\n",
       "      <td>3</td>\n",
       "      <td>female</td>\n",
       "      <td>26.0</td>\n",
       "      <td>7.9250</td>\n",
       "      <td>S</td>\n",
       "      <td>Miss.</td>\n",
       "      <td>0</td>\n",
       "      <td>0</td>\n",
       "    </tr>\n",
       "    <tr>\n",
       "      <th>4</th>\n",
       "      <td>1</td>\n",
       "      <td>1</td>\n",
       "      <td>female</td>\n",
       "      <td>35.0</td>\n",
       "      <td>53.1000</td>\n",
       "      <td>S</td>\n",
       "      <td>Mrs.</td>\n",
       "      <td>0</td>\n",
       "      <td>1</td>\n",
       "    </tr>\n",
       "    <tr>\n",
       "      <th>5</th>\n",
       "      <td>0</td>\n",
       "      <td>3</td>\n",
       "      <td>male</td>\n",
       "      <td>35.0</td>\n",
       "      <td>8.0500</td>\n",
       "      <td>S</td>\n",
       "      <td>Mr.</td>\n",
       "      <td>0</td>\n",
       "      <td>0</td>\n",
       "    </tr>\n",
       "  </tbody>\n",
       "</table>\n",
       "</div>"
      ],
      "text/plain": [
       "             Survived  Pclass     Sex   Age     Fare Embarked   Name  \\\n",
       "PassengerId                                                            \n",
       "1                   0       3    male  22.0   7.2500        S    Mr.   \n",
       "2                   1       1  female  38.0  71.2833        C   Mrs.   \n",
       "3                   1       3  female  26.0   7.9250        S  Miss.   \n",
       "4                   1       1  female  35.0  53.1000        S   Mrs.   \n",
       "5                   0       3    male  35.0   8.0500        S    Mr.   \n",
       "\n",
       "             Parch_cat  SibSp_cat  \n",
       "PassengerId                        \n",
       "1                    0          1  \n",
       "2                    0          1  \n",
       "3                    0          0  \n",
       "4                    0          1  \n",
       "5                    0          0  "
      ]
     },
     "execution_count": 100,
     "metadata": {},
     "output_type": "execute_result"
    }
   ],
   "source": [
    "df.head()"
   ]
  },
  {
   "cell_type": "code",
   "execution_count": 12,
   "id": "6ec6b625",
   "metadata": {},
   "outputs": [
    {
     "data": {
      "image/png": "[encoded data removed]",
      "text/plain": [
       "<Figure size 600x600 with 1 Axes>"
      ]
     },
     "metadata": {},
     "output_type": "display_data"
    }
   ],
   "source": [
    "graf_1 = df[\"Survived\"].value_counts()\n",
    "\n",
    "plt.figure(figsize=(6, 6))\n",
    "plt.pie(graf_1, labels=graf_1.index, autopct='%1.1f%%', startangle=140)\n",
    "\n",
    "plt.title('Distribución de personas que sobrevivieron')\n",
    "\n",
    "plt.show()"
   ]
  },
  {
   "cell_type": "code",
   "execution_count": 37,
   "id": "bce6d056",
   "metadata": {},
   "outputs": [
    {
     "data": {
      "image/png": "[encoded data removed]",
      "text/plain": [
       "<Figure size 600x600 with 1 Axes>"
      ]
     },
     "metadata": {},
     "output_type": "display_data"
    }
   ],
   "source": [
    "graf_2 = df[\"Pclass\"].value_counts()\n",
    "\n",
    "plt.figure(figsize=(6, 6))\n",
    "plt.pie(graf_2, labels=graf_2.index, autopct='%1.1f%%', startangle=140)\n",
    "\n",
    "plt.title('Distribución de Pclass')\n",
    "\n",
    "plt.show()"
   ]
  },
  {
   "cell_type": "code",
   "execution_count": 38,
   "id": "1bf38932",
   "metadata": {},
   "outputs": [
    {
     "data": {
      "image/png": "[encoded data removed]",
      "text/plain": [
       "<Figure size 600x600 with 1 Axes>"
      ]
     },
     "metadata": {},
     "output_type": "display_data"
    }
   ],
   "source": [
    "graf_3 = df[\"Embarked\"].value_counts()\n",
    "\n",
    "plt.figure(figsize=(6, 6))\n",
    "plt.pie(graf_3, labels=graf_3.index, autopct='%1.1f%%', startangle=140)\n",
    "\n",
    "plt.title('Distribución de Embarked')\n",
    "\n",
    "plt.show()"
   ]
  },
  {
   "cell_type": "code",
   "execution_count": 39,
   "id": "555f3278",
   "metadata": {},
   "outputs": [
    {
     "data": {
      "image/png": "[encoded data removed]",
      "text/plain": [
       "<Figure size 600x600 with 1 Axes>"
      ]
     },
     "metadata": {},
     "output_type": "display_data"
    }
   ],
   "source": [
    "graf_4 = df[\"Sex\"].value_counts()\n",
    "\n",
    "plt.figure(figsize=(6, 6))\n",
    "plt.pie(graf_4, labels=graf_4.index, autopct='%1.1f%%', startangle=140)\n",
    "\n",
    "plt.title('Distribución de Genero')\n",
    "\n",
    "plt.show()"
   ]
  },
  {
   "cell_type": "code",
   "execution_count": 40,
   "id": "d79366f1",
   "metadata": {},
   "outputs": [
    {
     "data": {
      "image/png": "[encoded data removed]",
      "text/plain": [
       "<Figure size 600x600 with 1 Axes>"
      ]
     },
     "metadata": {},
     "output_type": "display_data"
    }
   ],
   "source": [
    "graf_5 = df[\"SibSp_cat\"].value_counts()\n",
    "\n",
    "plt.figure(figsize=(6, 6))\n",
    "plt.pie(graf_5, labels=graf_5.index, autopct='%1.1f%%', startangle=140)\n",
    "\n",
    "plt.title('Distribución de SibSp')\n",
    "\n",
    "plt.show()"
   ]
  },
  {
   "cell_type": "code",
   "execution_count": 41,
   "id": "0752d5fa",
   "metadata": {},
   "outputs": [
    {
     "data": {
      "image/png": "[encoded data removed]",
      "text/plain": [
       "<Figure size 600x600 with 1 Axes>"
      ]
     },
     "metadata": {},
     "output_type": "display_data"
    }
   ],
   "source": [
    "graf_6 = df[\"Parch_cat\"].value_counts()\n",
    "\n",
    "plt.figure(figsize=(6, 6))\n",
    "plt.pie(graf_6, labels=graf_6.index, autopct='%1.1f%%', startangle=140)\n",
    "\n",
    "plt.title('Distribución de SibSp')\n",
    "\n",
    "plt.show()"
   ]
  },
  {
   "cell_type": "code",
   "execution_count": 42,
   "id": "d1b69abb",
   "metadata": {},
   "outputs": [
    {
     "data": {
      "image/png": "[encoded data removed]",
      "text/plain": [
       "<Figure size 600x600 with 1 Axes>"
      ]
     },
     "metadata": {},
     "output_type": "display_data"
    }
   ],
   "source": [
    "graf_7 = df[\"Name\"].value_counts()\n",
    "\n",
    "plt.figure(figsize=(6, 6))\n",
    "plt.pie(graf_7, labels=graf_7.index, autopct='%1.1f%%', startangle=140)\n",
    "\n",
    "plt.show()"
   ]
  },
  {
   "cell_type": "code",
   "execution_count": 12,
   "id": "8d7687d0",
   "metadata": {},
   "outputs": [
    {
     "data": {
      "image/png": "[encoded data removed]",
      "text/plain": [
       "<Figure size 572.111x500 with 1 Axes>"
      ]
     },
     "metadata": {},
     "output_type": "display_data"
    }
   ],
   "source": [
    "sns.catplot(x = \"Sex\", y = \"Age\", kind = \"bar\", data = df, hue=\"Survived\")\n",
    "plt.show()"
   ]
  },
  {
   "cell_type": "code",
   "execution_count": 107,
   "id": "7fbb0874",
   "metadata": {},
   "outputs": [
    {
     "data": {
      "image/png": "[encoded data removed]",
      "text/plain": [
       "<Figure size 500x500 with 1 Axes>"
      ]
     },
     "metadata": {},
     "output_type": "display_data"
    }
   ],
   "source": [
    "sns.catplot(x = \"Pclass\", y = \"Fare\", kind = \"bar\", data = df, hue=\"Survived\")\n",
    "plt.show()"
   ]
  },
  {
   "cell_type": "code",
   "execution_count": 18,
   "id": "f05b4bb3",
   "metadata": {},
   "outputs": [
    {
     "data": {
      "image/png": "[encoded data removed]",
      "text/plain": [
       "<Figure size 572.111x500 with 1 Axes>"
      ]
     },
     "metadata": {},
     "output_type": "display_data"
    }
   ],
   "source": [
    "sns.catplot(x = \"Embarked\", y = \"Fare\", kind = \"bar\", data = df, hue=\"Survived\")\n",
    "plt.show()"
   ]
  },
  {
   "cell_type": "code",
   "execution_count": 22,
   "id": "eeae7750",
   "metadata": {
    "scrolled": false
   },
   "outputs": [
    {
     "data": {
      "image/png": "[encoded data removed]",
      "text/plain": [
       "<Figure size 572.111x500 with 1 Axes>"
      ]
     },
     "metadata": {},
     "output_type": "display_data"
    }
   ],
   "source": [
    "sns.catplot(x = \"Pclass\", y = \"Age\", kind = \"bar\", data = df, hue=\"Survived\")\n",
    "plt.show()"
   ]
  },
  {
   "cell_type": "code",
   "execution_count": 49,
   "id": "684a0233",
   "metadata": {},
   "outputs": [
    {
     "data": {
      "image/png": "[encoded data removed]",
      "text/plain": [
       "<Figure size 640x480 with 1 Axes>"
      ]
     },
     "metadata": {},
     "output_type": "display_data"
    }
   ],
   "source": [
    "sns.countplot(x = \"Name\", data = df, hue=\"Survived\")\n",
    "plt.show()"
   ]
  },
  {
   "cell_type": "code",
   "execution_count": 50,
   "id": "c1cbd2fc",
   "metadata": {},
   "outputs": [
    {
     "data": {
      "image/png": "[encoded data removed]",
      "text/plain": [
       "<Figure size 640x480 with 1 Axes>"
      ]
     },
     "metadata": {},
     "output_type": "display_data"
    }
   ],
   "source": [
    "sns.countplot(x = \"Embarked\", data = df, hue=\"Survived\")\n",
    "plt.show()"
   ]
  },
  {
   "cell_type": "code",
   "execution_count": 51,
   "id": "df827a8a",
   "metadata": {},
   "outputs": [
    {
     "data": {
      "image/png": "[encoded data removed]",
      "text/plain": [
       "<Figure size 640x480 with 1 Axes>"
      ]
     },
     "metadata": {},
     "output_type": "display_data"
    }
   ],
   "source": [
    "sns.countplot(x = \"Sex\", data = df, hue=\"Survived\")\n",
    "plt.show()"
   ]
  },
  {
   "cell_type": "code",
   "execution_count": 55,
   "id": "24a3f937",
   "metadata": {},
   "outputs": [
    {
     "data": {
      "image/png": "[encoded data removed]",
      "text/plain": [
       "<Figure size 640x480 with 1 Axes>"
      ]
     },
     "metadata": {},
     "output_type": "display_data"
    }
   ],
   "source": [
    "sns.countplot(x = \"Name\", data = df, hue=\"Survived\")\n",
    "plt.show()"
   ]
  },
  {
   "cell_type": "code",
   "execution_count": 104,
   "id": "9901d39c",
   "metadata": {},
   "outputs": [
    {
     "data": {
      "image/png": "[encoded data removed]",
      "text/plain": [
       "<Figure size 640x480 with 1 Axes>"
      ]
     },
     "metadata": {},
     "output_type": "display_data"
    },
    {
     "data": {
      "image/png": "[encoded data removed]",
      "text/plain": [
       "<Figure size 640x480 with 1 Axes>"
      ]
     },
     "metadata": {},
     "output_type": "display_data"
    }
   ],
   "source": [
    "df[\"Age\"].hist()\n",
    "plt.xlabel(\"Edad\")\n",
    "plt.ylabel(\"Frecuencia\")\n",
    "plt.show()\n",
    "\n",
    "df[\"Fare\"].hist()\n",
    "plt.xlabel(\"Fare\")\n",
    "plt.ylabel(\"Frecuencia\")\n",
    "plt.show()"
   ]
  },
  {
   "cell_type": "code",
   "execution_count": 105,
   "id": "774b0287",
   "metadata": {},
   "outputs": [
    {
     "data": {
      "text/html": [
       "<div>\n",
       "<style scoped>\n",
       "    .dataframe tbody tr th:only-of-type {\n",
       "        vertical-align: middle;\n",
       "    }\n",
       "\n",
       "    .dataframe tbody tr th {\n",
       "        vertical-align: top;\n",
       "    }\n",
       "\n",
       "    .dataframe thead th {\n",
       "        text-align: right;\n",
       "    }\n",
       "</style>\n",
       "<table border=\"1\" class=\"dataframe\">\n",
       "  <thead>\n",
       "    <tr style=\"text-align: right;\">\n",
       "      <th></th>\n",
       "      <th>Survived</th>\n",
       "      <th>Pclass</th>\n",
       "      <th>Age</th>\n",
       "      <th>Fare</th>\n",
       "      <th>Parch_cat</th>\n",
       "      <th>SibSp_cat</th>\n",
       "    </tr>\n",
       "  </thead>\n",
       "  <tbody>\n",
       "    <tr>\n",
       "      <th>count</th>\n",
       "      <td>891.000000</td>\n",
       "      <td>891.000000</td>\n",
       "      <td>714.000000</td>\n",
       "      <td>891.000000</td>\n",
       "      <td>891.000000</td>\n",
       "      <td>891.000000</td>\n",
       "    </tr>\n",
       "    <tr>\n",
       "      <th>mean</th>\n",
       "      <td>0.383838</td>\n",
       "      <td>2.308642</td>\n",
       "      <td>29.699118</td>\n",
       "      <td>32.204208</td>\n",
       "      <td>0.239057</td>\n",
       "      <td>0.317621</td>\n",
       "    </tr>\n",
       "    <tr>\n",
       "      <th>std</th>\n",
       "      <td>0.486592</td>\n",
       "      <td>0.836071</td>\n",
       "      <td>14.526497</td>\n",
       "      <td>49.693429</td>\n",
       "      <td>0.426747</td>\n",
       "      <td>0.465813</td>\n",
       "    </tr>\n",
       "    <tr>\n",
       "      <th>min</th>\n",
       "      <td>0.000000</td>\n",
       "      <td>1.000000</td>\n",
       "      <td>0.420000</td>\n",
       "      <td>0.000000</td>\n",
       "      <td>0.000000</td>\n",
       "      <td>0.000000</td>\n",
       "    </tr>\n",
       "    <tr>\n",
       "      <th>25%</th>\n",
       "      <td>0.000000</td>\n",
       "      <td>2.000000</td>\n",
       "      <td>20.125000</td>\n",
       "      <td>7.910400</td>\n",
       "      <td>0.000000</td>\n",
       "      <td>0.000000</td>\n",
       "    </tr>\n",
       "    <tr>\n",
       "      <th>50%</th>\n",
       "      <td>0.000000</td>\n",
       "      <td>3.000000</td>\n",
       "      <td>28.000000</td>\n",
       "      <td>14.454200</td>\n",
       "      <td>0.000000</td>\n",
       "      <td>0.000000</td>\n",
       "    </tr>\n",
       "    <tr>\n",
       "      <th>75%</th>\n",
       "      <td>1.000000</td>\n",
       "      <td>3.000000</td>\n",
       "      <td>38.000000</td>\n",
       "      <td>31.000000</td>\n",
       "      <td>0.000000</td>\n",
       "      <td>1.000000</td>\n",
       "    </tr>\n",
       "    <tr>\n",
       "      <th>max</th>\n",
       "      <td>1.000000</td>\n",
       "      <td>3.000000</td>\n",
       "      <td>80.000000</td>\n",
       "      <td>512.329200</td>\n",
       "      <td>1.000000</td>\n",
       "      <td>1.000000</td>\n",
       "    </tr>\n",
       "  </tbody>\n",
       "</table>\n",
       "</div>"
      ],
      "text/plain": [
       "         Survived      Pclass         Age        Fare   Parch_cat   SibSp_cat\n",
       "count  891.000000  891.000000  714.000000  891.000000  891.000000  891.000000\n",
       "mean     0.383838    2.308642   29.699118   32.204208    0.239057    0.317621\n",
       "std      0.486592    0.836071   14.526497   49.693429    0.426747    0.465813\n",
       "min      0.000000    1.000000    0.420000    0.000000    0.000000    0.000000\n",
       "25%      0.000000    2.000000   20.125000    7.910400    0.000000    0.000000\n",
       "50%      0.000000    3.000000   28.000000   14.454200    0.000000    0.000000\n",
       "75%      1.000000    3.000000   38.000000   31.000000    0.000000    1.000000\n",
       "max      1.000000    3.000000   80.000000  512.329200    1.000000    1.000000"
      ]
     },
     "execution_count": 105,
     "metadata": {},
     "output_type": "execute_result"
    }
   ],
   "source": [
    "df.describe()"
   ]
  },
  {
   "cell_type": "code",
   "execution_count": 106,
   "id": "cf30d9eb",
   "metadata": {},
   "outputs": [
    {
     "name": "stdout",
     "output_type": "stream",
     "text": [
      "<class 'pandas.core.frame.DataFrame'>\n",
      "Int64Index: 891 entries, 1 to 891\n",
      "Data columns (total 9 columns):\n",
      " #   Column     Non-Null Count  Dtype  \n",
      "---  ------     --------------  -----  \n",
      " 0   Survived   891 non-null    int64  \n",
      " 1   Pclass     891 non-null    int64  \n",
      " 2   Sex        891 non-null    object \n",
      " 3   Age        714 non-null    float64\n",
      " 4   Fare       891 non-null    float64\n",
      " 5   Embarked   889 non-null    object \n",
      " 6   Name       891 non-null    object \n",
      " 7   Parch_cat  891 non-null    int32  \n",
      " 8   SibSp_cat  891 non-null    int32  \n",
      "dtypes: float64(2), int32(2), int64(2), object(3)\n",
      "memory usage: 62.6+ KB\n"
     ]
    }
   ],
   "source": [
    "df.info()"
   ]
  },
  {
   "cell_type": "code",
   "execution_count": 13,
   "id": "ecf18aa2",
   "metadata": {},
   "outputs": [
    {
     "data": {
      "text/html": [
       "<div>\n",
       "<style scoped>\n",
       "    .dataframe tbody tr th:only-of-type {\n",
       "        vertical-align: middle;\n",
       "    }\n",
       "\n",
       "    .dataframe tbody tr th {\n",
       "        vertical-align: top;\n",
       "    }\n",
       "\n",
       "    .dataframe thead th {\n",
       "        text-align: right;\n",
       "    }\n",
       "</style>\n",
       "<table border=\"1\" class=\"dataframe\">\n",
       "  <thead>\n",
       "    <tr style=\"text-align: right;\">\n",
       "      <th></th>\n",
       "      <th>Survived</th>\n",
       "      <th>Age</th>\n",
       "      <th>Fare</th>\n",
       "      <th>Parch_cat</th>\n",
       "      <th>SibSp_cat</th>\n",
       "      <th>Pclass_1</th>\n",
       "      <th>Pclass_2</th>\n",
       "      <th>Pclass_3</th>\n",
       "      <th>Sex_female</th>\n",
       "      <th>Sex_male</th>\n",
       "      <th>Embarked_C</th>\n",
       "      <th>Embarked_Q</th>\n",
       "      <th>Embarked_S</th>\n",
       "      <th>Name_Dr.</th>\n",
       "      <th>Name_Master.</th>\n",
       "      <th>Name_Miss.</th>\n",
       "      <th>Name_Mr.</th>\n",
       "      <th>Name_Mrs.</th>\n",
       "      <th>Name_Otros</th>\n",
       "      <th>Name_Rev.</th>\n",
       "    </tr>\n",
       "    <tr>\n",
       "      <th>PassengerId</th>\n",
       "      <th></th>\n",
       "      <th></th>\n",
       "      <th></th>\n",
       "      <th></th>\n",
       "      <th></th>\n",
       "      <th></th>\n",
       "      <th></th>\n",
       "      <th></th>\n",
       "      <th></th>\n",
       "      <th></th>\n",
       "      <th></th>\n",
       "      <th></th>\n",
       "      <th></th>\n",
       "      <th></th>\n",
       "      <th></th>\n",
       "      <th></th>\n",
       "      <th></th>\n",
       "      <th></th>\n",
       "      <th></th>\n",
       "      <th></th>\n",
       "    </tr>\n",
       "  </thead>\n",
       "  <tbody>\n",
       "    <tr>\n",
       "      <th>1</th>\n",
       "      <td>0</td>\n",
       "      <td>22.0</td>\n",
       "      <td>7.2500</td>\n",
       "      <td>0</td>\n",
       "      <td>1</td>\n",
       "      <td>0</td>\n",
       "      <td>0</td>\n",
       "      <td>1</td>\n",
       "      <td>0</td>\n",
       "      <td>1</td>\n",
       "      <td>0</td>\n",
       "      <td>0</td>\n",
       "      <td>1</td>\n",
       "      <td>0</td>\n",
       "      <td>0</td>\n",
       "      <td>0</td>\n",
       "      <td>1</td>\n",
       "      <td>0</td>\n",
       "      <td>0</td>\n",
       "      <td>0</td>\n",
       "    </tr>\n",
       "    <tr>\n",
       "      <th>2</th>\n",
       "      <td>1</td>\n",
       "      <td>38.0</td>\n",
       "      <td>71.2833</td>\n",
       "      <td>0</td>\n",
       "      <td>1</td>\n",
       "      <td>1</td>\n",
       "      <td>0</td>\n",
       "      <td>0</td>\n",
       "      <td>1</td>\n",
       "      <td>0</td>\n",
       "      <td>1</td>\n",
       "      <td>0</td>\n",
       "      <td>0</td>\n",
       "      <td>0</td>\n",
       "      <td>0</td>\n",
       "      <td>0</td>\n",
       "      <td>0</td>\n",
       "      <td>1</td>\n",
       "      <td>0</td>\n",
       "      <td>0</td>\n",
       "    </tr>\n",
       "    <tr>\n",
       "      <th>3</th>\n",
       "      <td>1</td>\n",
       "      <td>26.0</td>\n",
       "      <td>7.9250</td>\n",
       "      <td>0</td>\n",
       "      <td>0</td>\n",
       "      <td>0</td>\n",
       "      <td>0</td>\n",
       "      <td>1</td>\n",
       "      <td>1</td>\n",
       "      <td>0</td>\n",
       "      <td>0</td>\n",
       "      <td>0</td>\n",
       "      <td>1</td>\n",
       "      <td>0</td>\n",
       "      <td>0</td>\n",
       "      <td>1</td>\n",
       "      <td>0</td>\n",
       "      <td>0</td>\n",
       "      <td>0</td>\n",
       "      <td>0</td>\n",
       "    </tr>\n",
       "    <tr>\n",
       "      <th>4</th>\n",
       "      <td>1</td>\n",
       "      <td>35.0</td>\n",
       "      <td>53.1000</td>\n",
       "      <td>0</td>\n",
       "      <td>1</td>\n",
       "      <td>1</td>\n",
       "      <td>0</td>\n",
       "      <td>0</td>\n",
       "      <td>1</td>\n",
       "      <td>0</td>\n",
       "      <td>0</td>\n",
       "      <td>0</td>\n",
       "      <td>1</td>\n",
       "      <td>0</td>\n",
       "      <td>0</td>\n",
       "      <td>0</td>\n",
       "      <td>0</td>\n",
       "      <td>1</td>\n",
       "      <td>0</td>\n",
       "      <td>0</td>\n",
       "    </tr>\n",
       "    <tr>\n",
       "      <th>5</th>\n",
       "      <td>0</td>\n",
       "      <td>35.0</td>\n",
       "      <td>8.0500</td>\n",
       "      <td>0</td>\n",
       "      <td>0</td>\n",
       "      <td>0</td>\n",
       "      <td>0</td>\n",
       "      <td>1</td>\n",
       "      <td>0</td>\n",
       "      <td>1</td>\n",
       "      <td>0</td>\n",
       "      <td>0</td>\n",
       "      <td>1</td>\n",
       "      <td>0</td>\n",
       "      <td>0</td>\n",
       "      <td>0</td>\n",
       "      <td>1</td>\n",
       "      <td>0</td>\n",
       "      <td>0</td>\n",
       "      <td>0</td>\n",
       "    </tr>\n",
       "    <tr>\n",
       "      <th>...</th>\n",
       "      <td>...</td>\n",
       "      <td>...</td>\n",
       "      <td>...</td>\n",
       "      <td>...</td>\n",
       "      <td>...</td>\n",
       "      <td>...</td>\n",
       "      <td>...</td>\n",
       "      <td>...</td>\n",
       "      <td>...</td>\n",
       "      <td>...</td>\n",
       "      <td>...</td>\n",
       "      <td>...</td>\n",
       "      <td>...</td>\n",
       "      <td>...</td>\n",
       "      <td>...</td>\n",
       "      <td>...</td>\n",
       "      <td>...</td>\n",
       "      <td>...</td>\n",
       "      <td>...</td>\n",
       "      <td>...</td>\n",
       "    </tr>\n",
       "    <tr>\n",
       "      <th>887</th>\n",
       "      <td>0</td>\n",
       "      <td>27.0</td>\n",
       "      <td>13.0000</td>\n",
       "      <td>0</td>\n",
       "      <td>0</td>\n",
       "      <td>0</td>\n",
       "      <td>1</td>\n",
       "      <td>0</td>\n",
       "      <td>0</td>\n",
       "      <td>1</td>\n",
       "      <td>0</td>\n",
       "      <td>0</td>\n",
       "      <td>1</td>\n",
       "      <td>0</td>\n",
       "      <td>0</td>\n",
       "      <td>0</td>\n",
       "      <td>0</td>\n",
       "      <td>0</td>\n",
       "      <td>0</td>\n",
       "      <td>1</td>\n",
       "    </tr>\n",
       "    <tr>\n",
       "      <th>888</th>\n",
       "      <td>1</td>\n",
       "      <td>19.0</td>\n",
       "      <td>30.0000</td>\n",
       "      <td>0</td>\n",
       "      <td>0</td>\n",
       "      <td>1</td>\n",
       "      <td>0</td>\n",
       "      <td>0</td>\n",
       "      <td>1</td>\n",
       "      <td>0</td>\n",
       "      <td>0</td>\n",
       "      <td>0</td>\n",
       "      <td>1</td>\n",
       "      <td>0</td>\n",
       "      <td>0</td>\n",
       "      <td>1</td>\n",
       "      <td>0</td>\n",
       "      <td>0</td>\n",
       "      <td>0</td>\n",
       "      <td>0</td>\n",
       "    </tr>\n",
       "    <tr>\n",
       "      <th>889</th>\n",
       "      <td>0</td>\n",
       "      <td>NaN</td>\n",
       "      <td>23.4500</td>\n",
       "      <td>1</td>\n",
       "      <td>1</td>\n",
       "      <td>0</td>\n",
       "      <td>0</td>\n",
       "      <td>1</td>\n",
       "      <td>1</td>\n",
       "      <td>0</td>\n",
       "      <td>0</td>\n",
       "      <td>0</td>\n",
       "      <td>1</td>\n",
       "      <td>0</td>\n",
       "      <td>0</td>\n",
       "      <td>1</td>\n",
       "      <td>0</td>\n",
       "      <td>0</td>\n",
       "      <td>0</td>\n",
       "      <td>0</td>\n",
       "    </tr>\n",
       "    <tr>\n",
       "      <th>890</th>\n",
       "      <td>1</td>\n",
       "      <td>26.0</td>\n",
       "      <td>30.0000</td>\n",
       "      <td>0</td>\n",
       "      <td>0</td>\n",
       "      <td>1</td>\n",
       "      <td>0</td>\n",
       "      <td>0</td>\n",
       "      <td>0</td>\n",
       "      <td>1</td>\n",
       "      <td>1</td>\n",
       "      <td>0</td>\n",
       "      <td>0</td>\n",
       "      <td>0</td>\n",
       "      <td>0</td>\n",
       "      <td>0</td>\n",
       "      <td>1</td>\n",
       "      <td>0</td>\n",
       "      <td>0</td>\n",
       "      <td>0</td>\n",
       "    </tr>\n",
       "    <tr>\n",
       "      <th>891</th>\n",
       "      <td>0</td>\n",
       "      <td>32.0</td>\n",
       "      <td>7.7500</td>\n",
       "      <td>0</td>\n",
       "      <td>0</td>\n",
       "      <td>0</td>\n",
       "      <td>0</td>\n",
       "      <td>1</td>\n",
       "      <td>0</td>\n",
       "      <td>1</td>\n",
       "      <td>0</td>\n",
       "      <td>1</td>\n",
       "      <td>0</td>\n",
       "      <td>0</td>\n",
       "      <td>0</td>\n",
       "      <td>0</td>\n",
       "      <td>1</td>\n",
       "      <td>0</td>\n",
       "      <td>0</td>\n",
       "      <td>0</td>\n",
       "    </tr>\n",
       "  </tbody>\n",
       "</table>\n",
       "<p>891 rows × 20 columns</p>\n",
       "</div>"
      ],
      "text/plain": [
       "             Survived   Age     Fare  Parch_cat  SibSp_cat  Pclass_1  \\\n",
       "PassengerId                                                            \n",
       "1                   0  22.0   7.2500          0          1         0   \n",
       "2                   1  38.0  71.2833          0          1         1   \n",
       "3                   1  26.0   7.9250          0          0         0   \n",
       "4                   1  35.0  53.1000          0          1         1   \n",
       "5                   0  35.0   8.0500          0          0         0   \n",
       "...               ...   ...      ...        ...        ...       ...   \n",
       "887                 0  27.0  13.0000          0          0         0   \n",
       "888                 1  19.0  30.0000          0          0         1   \n",
       "889                 0   NaN  23.4500          1          1         0   \n",
       "890                 1  26.0  30.0000          0          0         1   \n",
       "891                 0  32.0   7.7500          0          0         0   \n",
       "\n",
       "             Pclass_2  Pclass_3  Sex_female  Sex_male  Embarked_C  Embarked_Q  \\\n",
       "PassengerId                                                                     \n",
       "1                   0         1           0         1           0           0   \n",
       "2                   0         0           1         0           1           0   \n",
       "3                   0         1           1         0           0           0   \n",
       "4                   0         0           1         0           0           0   \n",
       "5                   0         1           0         1           0           0   \n",
       "...               ...       ...         ...       ...         ...         ...   \n",
       "887                 1         0           0         1           0           0   \n",
       "888                 0         0           1         0           0           0   \n",
       "889                 0         1           1         0           0           0   \n",
       "890                 0         0           0         1           1           0   \n",
       "891                 0         1           0         1           0           1   \n",
       "\n",
       "             Embarked_S  Name_Dr.  Name_Master.  Name_Miss.  Name_Mr.  \\\n",
       "PassengerId                                                             \n",
       "1                     1         0             0           0         1   \n",
       "2                     0         0             0           0         0   \n",
       "3                     1         0             0           1         0   \n",
       "4                     1         0             0           0         0   \n",
       "5                     1         0             0           0         1   \n",
       "...                 ...       ...           ...         ...       ...   \n",
       "887                   1         0             0           0         0   \n",
       "888                   1         0             0           1         0   \n",
       "889                   1         0             0           1         0   \n",
       "890                   0         0             0           0         1   \n",
       "891                   0         0             0           0         1   \n",
       "\n",
       "             Name_Mrs.  Name_Otros  Name_Rev.  \n",
       "PassengerId                                    \n",
       "1                    0           0          0  \n",
       "2                    1           0          0  \n",
       "3                    0           0          0  \n",
       "4                    1           0          0  \n",
       "5                    0           0          0  \n",
       "...                ...         ...        ...  \n",
       "887                  0           0          1  \n",
       "888                  0           0          0  \n",
       "889                  0           0          0  \n",
       "890                  0           0          0  \n",
       "891                  0           0          0  \n",
       "\n",
       "[891 rows x 20 columns]"
      ]
     },
     "execution_count": 13,
     "metadata": {},
     "output_type": "execute_result"
    }
   ],
   "source": [
    "df = pd.get_dummies(df, columns=[\"Pclass\", \"Sex\", \"Embarked\", \"Name\"], \n",
    "                      prefix=[\"Pclass\", \"Sex\", \"Embarked\", \"Name\"])\n",
    "df"
   ]
  },
  {
   "cell_type": "code",
   "execution_count": 14,
   "id": "faa03078",
   "metadata": {},
   "outputs": [],
   "source": [
    "del df[\"Pclass_2\"]\n",
    "del df[\"Sex_female\"]\n",
    "del df[\"Embarked_Q\"]\n",
    "del df[\"Name_Rev.\"]"
   ]
  },
  {
   "cell_type": "code",
   "execution_count": 15,
   "id": "4f0dc5f2",
   "metadata": {},
   "outputs": [],
   "source": [
    "y = df[[\"Survived\"]]\n",
    "del df[\"Survived\"]"
   ]
  },
  {
   "cell_type": "code",
   "execution_count": 16,
   "id": "86f362c8",
   "metadata": {},
   "outputs": [
    {
     "data": {
      "text/html": [
       "<div>\n",
       "<style scoped>\n",
       "    .dataframe tbody tr th:only-of-type {\n",
       "        vertical-align: middle;\n",
       "    }\n",
       "\n",
       "    .dataframe tbody tr th {\n",
       "        vertical-align: top;\n",
       "    }\n",
       "\n",
       "    .dataframe thead th {\n",
       "        text-align: right;\n",
       "    }\n",
       "</style>\n",
       "<table border=\"1\" class=\"dataframe\">\n",
       "  <thead>\n",
       "    <tr style=\"text-align: right;\">\n",
       "      <th></th>\n",
       "      <th>Age</th>\n",
       "      <th>Fare</th>\n",
       "      <th>Parch_cat</th>\n",
       "      <th>SibSp_cat</th>\n",
       "      <th>Pclass_1</th>\n",
       "      <th>Pclass_3</th>\n",
       "      <th>Sex_male</th>\n",
       "      <th>Embarked_C</th>\n",
       "      <th>Embarked_S</th>\n",
       "      <th>Name_Dr.</th>\n",
       "      <th>Name_Master.</th>\n",
       "      <th>Name_Miss.</th>\n",
       "      <th>Name_Mr.</th>\n",
       "      <th>Name_Mrs.</th>\n",
       "      <th>Name_Otros</th>\n",
       "    </tr>\n",
       "  </thead>\n",
       "  <tbody>\n",
       "    <tr>\n",
       "      <th>0</th>\n",
       "      <td>22.0</td>\n",
       "      <td>7.2500</td>\n",
       "      <td>0.0</td>\n",
       "      <td>1.0</td>\n",
       "      <td>0.0</td>\n",
       "      <td>1.0</td>\n",
       "      <td>1.0</td>\n",
       "      <td>0.0</td>\n",
       "      <td>1.0</td>\n",
       "      <td>0.0</td>\n",
       "      <td>0.0</td>\n",
       "      <td>0.0</td>\n",
       "      <td>1.0</td>\n",
       "      <td>0.0</td>\n",
       "      <td>0.0</td>\n",
       "    </tr>\n",
       "    <tr>\n",
       "      <th>1</th>\n",
       "      <td>38.0</td>\n",
       "      <td>71.2833</td>\n",
       "      <td>0.0</td>\n",
       "      <td>1.0</td>\n",
       "      <td>1.0</td>\n",
       "      <td>0.0</td>\n",
       "      <td>0.0</td>\n",
       "      <td>1.0</td>\n",
       "      <td>0.0</td>\n",
       "      <td>0.0</td>\n",
       "      <td>0.0</td>\n",
       "      <td>0.0</td>\n",
       "      <td>0.0</td>\n",
       "      <td>1.0</td>\n",
       "      <td>0.0</td>\n",
       "    </tr>\n",
       "    <tr>\n",
       "      <th>2</th>\n",
       "      <td>26.0</td>\n",
       "      <td>7.9250</td>\n",
       "      <td>0.0</td>\n",
       "      <td>0.0</td>\n",
       "      <td>0.0</td>\n",
       "      <td>1.0</td>\n",
       "      <td>0.0</td>\n",
       "      <td>0.0</td>\n",
       "      <td>1.0</td>\n",
       "      <td>0.0</td>\n",
       "      <td>0.0</td>\n",
       "      <td>1.0</td>\n",
       "      <td>0.0</td>\n",
       "      <td>0.0</td>\n",
       "      <td>0.0</td>\n",
       "    </tr>\n",
       "    <tr>\n",
       "      <th>3</th>\n",
       "      <td>35.0</td>\n",
       "      <td>53.1000</td>\n",
       "      <td>0.0</td>\n",
       "      <td>1.0</td>\n",
       "      <td>1.0</td>\n",
       "      <td>0.0</td>\n",
       "      <td>0.0</td>\n",
       "      <td>0.0</td>\n",
       "      <td>1.0</td>\n",
       "      <td>0.0</td>\n",
       "      <td>0.0</td>\n",
       "      <td>0.0</td>\n",
       "      <td>0.0</td>\n",
       "      <td>1.0</td>\n",
       "      <td>0.0</td>\n",
       "    </tr>\n",
       "    <tr>\n",
       "      <th>4</th>\n",
       "      <td>35.0</td>\n",
       "      <td>8.0500</td>\n",
       "      <td>0.0</td>\n",
       "      <td>0.0</td>\n",
       "      <td>0.0</td>\n",
       "      <td>1.0</td>\n",
       "      <td>1.0</td>\n",
       "      <td>0.0</td>\n",
       "      <td>1.0</td>\n",
       "      <td>0.0</td>\n",
       "      <td>0.0</td>\n",
       "      <td>0.0</td>\n",
       "      <td>1.0</td>\n",
       "      <td>0.0</td>\n",
       "      <td>0.0</td>\n",
       "    </tr>\n",
       "  </tbody>\n",
       "</table>\n",
       "</div>"
      ],
      "text/plain": [
       "    Age     Fare  Parch_cat  SibSp_cat  Pclass_1  Pclass_3  Sex_male  \\\n",
       "0  22.0   7.2500        0.0        1.0       0.0       1.0       1.0   \n",
       "1  38.0  71.2833        0.0        1.0       1.0       0.0       0.0   \n",
       "2  26.0   7.9250        0.0        0.0       0.0       1.0       0.0   \n",
       "3  35.0  53.1000        0.0        1.0       1.0       0.0       0.0   \n",
       "4  35.0   8.0500        0.0        0.0       0.0       1.0       1.0   \n",
       "\n",
       "   Embarked_C  Embarked_S  Name_Dr.  Name_Master.  Name_Miss.  Name_Mr.  \\\n",
       "0         0.0         1.0       0.0           0.0         0.0       1.0   \n",
       "1         1.0         0.0       0.0           0.0         0.0       0.0   \n",
       "2         0.0         1.0       0.0           0.0         1.0       0.0   \n",
       "3         0.0         1.0       0.0           0.0         0.0       0.0   \n",
       "4         0.0         1.0       0.0           0.0         0.0       1.0   \n",
       "\n",
       "   Name_Mrs.  Name_Otros  \n",
       "0        0.0         0.0  \n",
       "1        1.0         0.0  \n",
       "2        0.0         0.0  \n",
       "3        1.0         0.0  \n",
       "4        0.0         0.0  "
      ]
     },
     "execution_count": 16,
     "metadata": {},
     "output_type": "execute_result"
    }
   ],
   "source": [
    "# Instanciar el imputador de k-NN\n",
    "knn_imputer = KNNImputer()\n",
    "\n",
    "# Imputar los valores faltantes en el DataFrame con variables numéricas\n",
    "df = pd.DataFrame(knn_imputer.fit_transform(df), columns=df.columns)\n",
    "df.head()"
   ]
  },
  {
   "cell_type": "code",
   "execution_count": 17,
   "id": "7ad83d2d",
   "metadata": {},
   "outputs": [],
   "source": [
    "df.index = y.index\n",
    "df_concat = pd.concat([y, df], axis=1)"
   ]
  },
  {
   "cell_type": "code",
   "execution_count": 20,
   "id": "c4203758",
   "metadata": {},
   "outputs": [],
   "source": [
    "df2 = df_concat.copy()"
   ]
  },
  {
   "cell_type": "markdown",
   "id": "d3fc9ae1",
   "metadata": {},
   "source": [
    "## Fase de modelado"
   ]
  },
  {
   "cell_type": "code",
   "execution_count": 21,
   "id": "8134d0e3",
   "metadata": {},
   "outputs": [],
   "source": [
    "Y_train = df_concat[[\"Survived\"]]\n",
    "del df_concat[\"Survived\"]\n",
    "X_train = df_concat"
   ]
  },
  {
   "cell_type": "code",
   "execution_count": 22,
   "id": "56dc214d",
   "metadata": {},
   "outputs": [],
   "source": [
    "scoring = 'accuracy'\n",
    "\n",
    "# Creamos algoritmos base\n",
    "models = []\n",
    "models.append(('LR', LogisticRegression()))\n",
    "models.append(('CB', CatBoostClassifier(random_state=7, verbose=False)))\n",
    "models.append(('LDA', LinearDiscriminantAnalysis()))\n",
    "models.append(('KNN', KNeighborsClassifier()))\n",
    "models.append(('CART', DecisionTreeClassifier(random_state=7)))\n",
    "models.append(('NB', GaussianNB()))\n",
    "models.append(('SVM', SVC(random_state=7)))"
   ]
  },
  {
   "cell_type": "code",
   "execution_count": 66,
   "id": "adfcc6c6",
   "metadata": {},
   "outputs": [
    {
     "name": "stdout",
     "output_type": "stream",
     "text": [
      "LR: 81.71%\n",
      "CB: 83.05%\n",
      "LDA: 80.02%\n",
      "KNN: 71.50%\n",
      "CART: 76.32%\n",
      "NB: 77.44%\n",
      "SVM: 67.01%\n"
     ]
    }
   ],
   "source": [
    "results = []\n",
    "names = []\n",
    "for name, model in models:\n",
    "    cv_results = cross_val_score(model, X_train, Y_train, scoring=scoring)\n",
    "    results.append(cv_results)\n",
    "    names.append(name)\n",
    "    print(f\"{name}: {cv_results.mean()*100.0:,.2f}%\")"
   ]
  },
  {
   "cell_type": "code",
   "execution_count": 23,
   "id": "eb739c34",
   "metadata": {},
   "outputs": [
    {
     "name": "stdout",
     "output_type": "stream",
     "text": [
      "ScaledLoR: 81.04%\n",
      "ScaledCB: 83.05%\n",
      "ScaledLDA: 80.02%\n",
      "Scaledk-NN: 79.35%\n",
      "ScaledCART: 76.32%\n",
      "ScaledNB: 77.44%\n",
      "ScaledSVC: 80.92%\n"
     ]
    }
   ],
   "source": [
    "pipelines = []\n",
    "pipelines.append(('ScaledLoR', Pipeline([('Scaler', StandardScaler()),('CB', LogisticRegression())])))\n",
    "pipelines.append(('ScaledCB', Pipeline([('Scaler', StandardScaler()),('LR', CatBoostClassifier(random_state=7, verbose=False))])))\n",
    "pipelines.append(('ScaledLDA', Pipeline([('Scaler', StandardScaler()),('LDA', LinearDiscriminantAnalysis())])))\n",
    "pipelines.append(('Scaledk-NN', Pipeline([('Scaler', StandardScaler()),('KNN', KNeighborsClassifier())])))\n",
    "pipelines.append(('ScaledCART', Pipeline([('Scaler', StandardScaler()),('CART', DecisionTreeClassifier(random_state=7))])))\n",
    "pipelines.append(('ScaledNB', Pipeline([('Scaler', StandardScaler()),('NB', GaussianNB())])))\n",
    "pipelines.append(('ScaledSVC', Pipeline([('Scaler', StandardScaler()),('SVM', SVC(random_state=7))])))\n",
    "results = []\n",
    "names = []\n",
    "for name, model in pipelines:\n",
    "    cv_results = cross_val_score(model, X_train, Y_train, scoring=scoring)\n",
    "    results.append(cv_results)\n",
    "    names.append(name)\n",
    "    print(f\"{name}: {cv_results.mean()*100.0:,.2f}%\")"
   ]
  },
  {
   "cell_type": "code",
   "execution_count": 24,
   "id": "70582daf",
   "metadata": {},
   "outputs": [],
   "source": [
    "ss = StandardScaler()\n",
    "ajuste = ss.fit(X_train)\n",
    "X_train = ajuste.transform(X_train)"
   ]
  },
  {
   "cell_type": "markdown",
   "id": "96589240",
   "metadata": {},
   "source": [
    "## Optimizamos los Modelos"
   ]
  },
  {
   "cell_type": "code",
   "execution_count": 47,
   "id": "1dfc125a",
   "metadata": {},
   "outputs": [
    {
     "name": "stdout",
     "output_type": "stream",
     "text": [
      "Best: 0.835007 using {'depth': 4, 'iterations': 1000, 'learning_rate': 0.01, 'loss_function': 'Logloss'}\n"
     ]
    }
   ],
   "source": [
    "# Modificamos los Hiperparametros de CatBoost, ya que fue uno de los que nos dió mejor resultado.\n",
    "\n",
    "iterations = np.array([500,1000,2000])\n",
    "learning_rate = np.array([0.01, 0.1,0.01])\n",
    "depth = np.array([2,3,4])\n",
    "loss_function = np.array(['Logloss', 'CrossEntropy'])\n",
    "\n",
    "param_grid = dict(iterations=iterations, learning_rate=learning_rate, depth=depth, loss_function=loss_function)\n",
    "\n",
    "model = CatBoostClassifier(random_state=7, verbose=False)\n",
    "\n",
    "grid_CBC = GridSearchCV(estimator=model, param_grid=param_grid, scoring=scoring)\n",
    "grid_result = grid_CBC.fit(X_train, Y_train)\n",
    "\n",
    "print(\"Best: %f using %s\" % (grid_result.best_score_, grid_result.best_params_))"
   ]
  },
  {
   "cell_type": "code",
   "execution_count": 48,
   "id": "b1c0c46e",
   "metadata": {},
   "outputs": [
    {
     "name": "stdout",
     "output_type": "stream",
     "text": [
      "              precision    recall  f1-score   support\n",
      "\n",
      "           0       0.87      0.94      0.91       549\n",
      "           1       0.89      0.78      0.83       342\n",
      "\n",
      "    accuracy                           0.88       891\n",
      "   macro avg       0.88      0.86      0.87       891\n",
      "weighted avg       0.88      0.88      0.88       891\n",
      "\n"
     ]
    }
   ],
   "source": [
    "CBC = grid_CBC.best_estimator_\n",
    "ypred_CBC = CBC.predict(X_train)\n",
    "print(classification_report(Y_train, ypred_CBC))"
   ]
  },
  {
   "cell_type": "code",
   "execution_count": 49,
   "id": "2997821c",
   "metadata": {},
   "outputs": [
    {
     "name": "stdout",
     "output_type": "stream",
     "text": [
      "Best: 0.809227 using {'C': 10.0, 'gamma': 'scale', 'kernel': 'rbf'}\n"
     ]
    }
   ],
   "source": [
    "# Modificamos los Hiperparametros de SVC, ya que fue uno de los que nos dió mejor resultado.\n",
    "\n",
    "c_values = np.array([0.001,0.1,1,10])\n",
    "kernel_values = np.array([\"rbf\", \"linear\"])\n",
    "gamma = np.array(['auto','scale'])\n",
    "\n",
    "param_grid = dict(C=c_values, kernel=kernel_values, gamma=gamma)\n",
    "\n",
    "model = SVC(random_state=7)\n",
    "\n",
    "grid_SVC = GridSearchCV(estimator=model, param_grid=param_grid, scoring=scoring)\n",
    "grid_result = grid_SVC.fit(X_train, Y_train)\n",
    "\n",
    "print(\"Best: %f using %s\" % (grid_result.best_score_, grid_result.best_params_))"
   ]
  },
  {
   "cell_type": "code",
   "execution_count": 50,
   "id": "934f3935",
   "metadata": {},
   "outputs": [
    {
     "name": "stdout",
     "output_type": "stream",
     "text": [
      "              precision    recall  f1-score   support\n",
      "\n",
      "           0       0.84      0.95      0.89       549\n",
      "           1       0.90      0.72      0.80       342\n",
      "\n",
      "    accuracy                           0.86       891\n",
      "   macro avg       0.87      0.83      0.84       891\n",
      "weighted avg       0.86      0.86      0.86       891\n",
      "\n"
     ]
    }
   ],
   "source": [
    "SVC = grid_SVC.best_estimator_\n",
    "ypred_SVC = SVC.predict(X_train)\n",
    "print(classification_report(Y_train, ypred_SVC))"
   ]
  },
  {
   "cell_type": "markdown",
   "id": "00d64930",
   "metadata": {},
   "source": [
    "## Algoritmos Ensamblados"
   ]
  },
  {
   "cell_type": "code",
   "execution_count": 51,
   "id": "7cb64053",
   "metadata": {},
   "outputs": [
    {
     "name": "stdout",
     "output_type": "stream",
     "text": [
      "AB: 81.48%\n",
      "GBM: 83.17%\n",
      "RF: 79.69%\n",
      "ET: 79.01%\n"
     ]
    }
   ],
   "source": [
    "# ensembles\n",
    "ensembles = []\n",
    "ensembles.append(('AB', AdaBoostClassifier(random_state=7)))\n",
    "ensembles.append(('GBM', GradientBoostingClassifier(random_state=7)))\n",
    "ensembles.append(('RF', RandomForestClassifier(random_state=7)))\n",
    "ensembles.append(('ET', ExtraTreesClassifier(random_state=7)))\n",
    "results = []\n",
    "names = []\n",
    "for name, model in ensembles:\n",
    "    cv_results = cross_val_score(model, X_train, Y_train, scoring=scoring)\n",
    "    results.append(cv_results)\n",
    "    names.append(name)\n",
    "    print(f\"{name}: {cv_results.mean()*100.0:,.2f}%\")"
   ]
  },
  {
   "cell_type": "markdown",
   "id": "b61772b0",
   "metadata": {},
   "source": [
    "## Optimizamos los Modelos Ensamblados"
   ]
  },
  {
   "cell_type": "code",
   "execution_count": 52,
   "id": "82010600",
   "metadata": {},
   "outputs": [
    {
     "name": "stdout",
     "output_type": "stream",
     "text": [
      "Best: 0.8249074132195092 using {'criterion': 'gini', 'max_depth': 6, 'max_features': 'sqrt', 'n_estimators': 300}\n"
     ]
    }
   ],
   "source": [
    "# Modificamos los Hiperparametros de RandomForestClassifier, ya que fue uno de los que nos dió mejor resultado.\n",
    "\n",
    "n_estimators = np.array([100,250,300,400])\n",
    "criterion = np.array([\"gini\", \"entropy\", \"log_loss\"])\n",
    "max_depth = np.array([3,4,5,6])\n",
    "max_features = np.array([\"sqrt\", \"log2\"])\n",
    "                        \n",
    "param_grid = dict(n_estimators=n_estimators, criterion=criterion, max_depth= max_depth, max_features=max_features)\n",
    "\n",
    "model = RandomForestClassifier(random_state=7)\n",
    "\n",
    "grid_RF = GridSearchCV(estimator=model, param_grid=param_grid, scoring=scoring)\n",
    "grid_result = grid_RF.fit(X_train, Y_train)\n",
    "\n",
    "print(f\"Best: {grid_result.best_score_} using {grid_result.best_params_}\") "
   ]
  },
  {
   "cell_type": "code",
   "execution_count": 53,
   "id": "bbec6846",
   "metadata": {},
   "outputs": [
    {
     "name": "stdout",
     "output_type": "stream",
     "text": [
      "              precision    recall  f1-score   support\n",
      "\n",
      "           0       0.85      0.94      0.89       549\n",
      "           1       0.88      0.74      0.81       342\n",
      "\n",
      "    accuracy                           0.86       891\n",
      "   macro avg       0.87      0.84      0.85       891\n",
      "weighted avg       0.87      0.86      0.86       891\n",
      "\n"
     ]
    }
   ],
   "source": [
    "RFC = grid_RF.best_estimator_\n",
    "ypred_RFC = RFC.predict(X_train)\n",
    "print(classification_report(Y_train, ypred_RFC))"
   ]
  },
  {
   "cell_type": "code",
   "execution_count": 56,
   "id": "c0cbb5ed",
   "metadata": {},
   "outputs": [
    {
     "name": "stdout",
     "output_type": "stream",
     "text": [
      "Best: 0.8372795179210344 using {'criterion': 'friedman_mse', 'loss': 'exponential', 'n_estimators': 250}\n"
     ]
    }
   ],
   "source": [
    "# Modificando Hiperparametro de GradientBoostingRegressor\n",
    "k_values = np.array([250,300,350,400])\n",
    "loss = np.array([\"log_loss\", \"deviance\", \"exponential\"])\n",
    "criterion = np.array([ \"friedman_mse\", \"squared_error\" ])\n",
    "max_features = np.array([ \"auto\", \"sqrt\", \"log2\" ])\n",
    "\n",
    "param_grid = dict(loss = loss, n_estimators=k_values, criterion=criterion)\n",
    "\n",
    "model = GradientBoostingClassifier(random_state=7)\n",
    "\n",
    "grid_GBC = GridSearchCV(estimator=model, param_grid=param_grid, scoring=scoring)\n",
    "grid_result = grid_GBC.fit(X_train, Y_train)\n",
    "\n",
    "print(f\"Best: {grid_result.best_score_} using {grid_result.best_params_}\") "
   ]
  },
  {
   "cell_type": "code",
   "execution_count": 57,
   "id": "71dd474e",
   "metadata": {},
   "outputs": [
    {
     "name": "stdout",
     "output_type": "stream",
     "text": [
      "              precision    recall  f1-score   support\n",
      "\n",
      "           0       0.92      0.97      0.95       549\n",
      "           1       0.95      0.87      0.91       342\n",
      "\n",
      "    accuracy                           0.93       891\n",
      "   macro avg       0.94      0.92      0.93       891\n",
      "weighted avg       0.93      0.93      0.93       891\n",
      "\n"
     ]
    }
   ],
   "source": [
    "GBC = grid_GBC.best_estimator_\n",
    "ypred_GBC = GBC.predict(X_train)\n",
    "print(classification_report(Y_train, ypred_GBC))"
   ]
  },
  {
   "cell_type": "markdown",
   "id": "d7c3da52",
   "metadata": {},
   "source": [
    "## XGBoost"
   ]
  },
  {
   "cell_type": "code",
   "execution_count": 67,
   "id": "c2d071bb",
   "metadata": {},
   "outputs": [],
   "source": [
    "import optuna\n",
    "\n",
    "def objective(trial):\n",
    "    params = {\n",
    "        'max_depth': trial.suggest_int('max_depth', 2, 4),\n",
    "        'learning_rate': trial.suggest_loguniform('learning_rate', 0.01, 1.0),\n",
    "        'n_estimators': trial.suggest_int('n_estimators', 100, 1000),\n",
    "        'min_child_weight': trial.suggest_int('min_child_weight', 1, 5),\n",
    "        'gamma': trial.suggest_loguniform('gamma', 1e-8, 1.0),\n",
    "        'eta': trial.suggest_loguniform('eta', 1e-8, 1.0),\n",
    "        'subsample': trial.suggest_loguniform('subsample', 0.01, 1.0),\n",
    "        'colsample_bytree': trial.suggest_loguniform('colsample_bytree', 0.01, 1.0),\n",
    "        'reg_alpha': trial.suggest_loguniform('reg_alpha', 1e-8, 1.0),\n",
    "        'reg_lambda': trial.suggest_loguniform('reg_lambda', 1e-8, 1.0),\n",
    "        'max_delta_step': trial.suggest_loguniform('max_delta_step', 1, 6),\n",
    "        'min_child_weight': trial.suggest_loguniform('max_delta_step', 1, 2),\n",
    "    }\n",
    "\n",
    "    # Fit the model\n",
    "    optuna_model = XGBClassifier(**params)\n",
    "    optuna_model.fit(X_train, Y_train)\n",
    "\n",
    "    # Make predictions\n",
    "    y_pred = optuna_model.predict(X_train)\n",
    "\n",
    "    # Evaluate predictions\n",
    "    accuracy = accuracy_score(Y_train, y_pred)\n",
    "    return accuracy"
   ]
  },
  {
   "cell_type": "code",
   "execution_count": 68,
   "id": "88beae10",
   "metadata": {},
   "outputs": [
    {
     "name": "stderr",
     "output_type": "stream",
     "text": [
      "[I 2023-07-31 20:13:32,833] A new study created in memory with name: no-name-88f7f6a3-c736-4eeb-94ab-a1ac997117dd\n",
      "[I 2023-07-31 20:13:32,956] Trial 0 finished with value: 0.8686868686868687 and parameters: {'max_depth': 4, 'learning_rate': 0.2112021353144673, 'n_estimators': 280, 'min_child_weight': 1, 'gamma': 0.0022601620595060477, 'eta': 8.784673993483179e-08, 'subsample': 0.7483087402681768, 'colsample_bytree': 0.045064685984761696, 'reg_alpha': 0.05016873214673058, 'reg_lambda': 0.5289094212908614, 'max_delta_step': 3.9244014926282467}. Best is trial 0 with value: 0.8686868686868687.\n",
      "[I 2023-07-31 20:13:33,024] Trial 1 finished with value: 0.877665544332211 and parameters: {'max_depth': 2, 'learning_rate': 0.6576813875225594, 'n_estimators': 228, 'min_child_weight': 5, 'gamma': 0.33477135637862077, 'eta': 0.08254627718214415, 'subsample': 0.39121783639777225, 'colsample_bytree': 0.2579866596241621, 'reg_alpha': 4.6312791140361395e-08, 'reg_lambda': 0.3868241431860624, 'max_delta_step': 1.852701645414356}. Best is trial 1 with value: 0.877665544332211.\n",
      "[I 2023-07-31 20:13:33,232] Trial 2 finished with value: 0.734006734006734 and parameters: {'max_depth': 4, 'learning_rate': 0.625432443180673, 'n_estimators': 875, 'min_child_weight': 3, 'gamma': 9.764702612653235e-08, 'eta': 0.0001624308561217751, 'subsample': 0.02560948082075669, 'colsample_bytree': 0.010541879904269226, 'reg_alpha': 0.14055896054084088, 'reg_lambda': 3.75578359768526e-06, 'max_delta_step': 1.0373276224450707}. Best is trial 1 with value: 0.877665544332211.\n",
      "[I 2023-07-31 20:13:33,407] Trial 3 finished with value: 0.8249158249158249 and parameters: {'max_depth': 2, 'learning_rate': 0.1530031362275171, 'n_estimators': 776, 'min_child_weight': 3, 'gamma': 0.5160076491474994, 'eta': 2.380118634133693e-06, 'subsample': 0.03203047809070314, 'colsample_bytree': 0.5873416631060346, 'reg_alpha': 0.00017464712973341682, 'reg_lambda': 7.806333571672413e-06, 'max_delta_step': 1.388966703400001}. Best is trial 1 with value: 0.877665544332211.\n",
      "[I 2023-07-31 20:13:33,463] Trial 4 finished with value: 0.8204264870931538 and parameters: {'max_depth': 4, 'learning_rate': 0.05078120753141103, 'n_estimators': 145, 'min_child_weight': 4, 'gamma': 6.394122561988146e-08, 'eta': 2.6601471458153653e-05, 'subsample': 0.7113180500715679, 'colsample_bytree': 0.06176823901107389, 'reg_alpha': 2.2260429431201766e-08, 'reg_lambda': 0.015892643884764576, 'max_delta_step': 2.6456778173670155}. Best is trial 1 with value: 0.877665544332211.\n",
      "[I 2023-07-31 20:13:33,531] Trial 5 finished with value: 0.7530864197530864 and parameters: {'max_depth': 3, 'learning_rate': 0.010239943239398759, 'n_estimators': 281, 'min_child_weight': 2, 'gamma': 6.195495047349367e-07, 'eta': 2.3546089656720234e-05, 'subsample': 0.07149774641035181, 'colsample_bytree': 0.08404708184448252, 'reg_alpha': 0.2839169146545521, 'reg_lambda': 0.0007937026302600443, 'max_delta_step': 3.5073626170520367}. Best is trial 1 with value: 0.877665544332211.\n",
      "[I 2023-07-31 20:13:33,702] Trial 6 finished with value: 0.6161616161616161 and parameters: {'max_depth': 4, 'learning_rate': 0.025970967234553492, 'n_estimators': 855, 'min_child_weight': 3, 'gamma': 8.053742660309078e-05, 'eta': 0.0004569650328095915, 'subsample': 0.01624210759083078, 'colsample_bytree': 0.3766650624298654, 'reg_alpha': 1.4587051229088374e-07, 'reg_lambda': 8.538374793209574e-08, 'max_delta_step': 2.4906907155145395}. Best is trial 1 with value: 0.877665544332211.\n",
      "[I 2023-07-31 20:13:33,801] Trial 7 finished with value: 0.8922558922558923 and parameters: {'max_depth': 3, 'learning_rate': 0.6407499340168774, 'n_estimators': 354, 'min_child_weight': 4, 'gamma': 6.588069503904842e-05, 'eta': 3.254670193244072e-08, 'subsample': 0.6586545130601159, 'colsample_bytree': 0.021283469300849893, 'reg_alpha': 1.30689767376787e-06, 'reg_lambda': 0.004966885987461677, 'max_delta_step': 1.4772406771735407}. Best is trial 7 with value: 0.8922558922558923.\n",
      "[I 2023-07-31 20:13:33,947] Trial 8 finished with value: 0.8742985409652076 and parameters: {'max_depth': 3, 'learning_rate': 0.21842506601769185, 'n_estimators': 609, 'min_child_weight': 3, 'gamma': 0.0004613255619049945, 'eta': 0.1938924858013122, 'subsample': 0.39527676528165323, 'colsample_bytree': 0.013928345026919899, 'reg_alpha': 6.519374540475856e-05, 'reg_lambda': 2.851912010954834e-07, 'max_delta_step': 1.3652401509808025}. Best is trial 7 with value: 0.8922558922558923.\n",
      "[I 2023-07-31 20:13:34,097] Trial 9 finished with value: 0.8855218855218855 and parameters: {'max_depth': 2, 'learning_rate': 0.7624111080674082, 'n_estimators': 469, 'min_child_weight': 2, 'gamma': 0.1342994166143716, 'eta': 0.2603352190387004, 'subsample': 0.2453134788587855, 'colsample_bytree': 0.856639510147996, 'reg_alpha': 0.0006050936807226686, 'reg_lambda': 0.0019957956761420615, 'max_delta_step': 1.0908062506153915}. Best is trial 7 with value: 0.8922558922558923.\n",
      "[I 2023-07-31 20:13:34,272] Trial 10 finished with value: 0.8125701459034792 and parameters: {'max_depth': 3, 'learning_rate': 0.3590803922753226, 'n_estimators': 475, 'min_child_weight': 5, 'gamma': 6.145254102343241e-06, 'eta': 2.2754835073143576e-08, 'subsample': 0.1429927103162959, 'colsample_bytree': 0.026790395436100865, 'reg_alpha': 2.0810946333652412e-06, 'reg_lambda': 7.682441958320455e-05, 'max_delta_step': 5.978032023826125}. Best is trial 7 with value: 0.8922558922558923.\n",
      "[I 2023-07-31 20:13:34,667] Trial 11 finished with value: 0.8417508417508418 and parameters: {'max_depth': 2, 'learning_rate': 0.9561622343625492, 'n_estimators': 476, 'min_child_weight': 1, 'gamma': 0.01113168899729494, 'eta': 0.006333351604873496, 'subsample': 0.219552306803882, 'colsample_bytree': 0.18055695392683704, 'reg_alpha': 0.00020049389052279986, 'reg_lambda': 0.003172633268756285, 'max_delta_step': 1.0113498899209477}. Best is trial 7 with value: 0.8922558922558923.\n",
      "[I 2023-07-31 20:13:34,858] Trial 12 finished with value: 0.8945005611672279 and parameters: {'max_depth': 2, 'learning_rate': 0.41154393096890446, 'n_estimators': 411, 'min_child_weight': 2, 'gamma': 5.531660734543438e-05, 'eta': 5.658781668374792e-07, 'subsample': 0.27901212563474587, 'colsample_bytree': 0.8815300732765919, 'reg_alpha': 2.3986721568290168e-06, 'reg_lambda': 0.01993300636782591, 'max_delta_step': 1.6490548223913553}. Best is trial 12 with value: 0.8945005611672279.\n",
      "[I 2023-07-31 20:13:35,113] Trial 13 finished with value: 0.9191919191919192 and parameters: {'max_depth': 3, 'learning_rate': 0.41599546394217274, 'n_estimators': 650, 'min_child_weight': 4, 'gamma': 2.7470632234100735e-05, 'eta': 3.2215124496019816e-07, 'subsample': 0.8425594025735899, 'colsample_bytree': 0.14196032997361496, 'reg_alpha': 3.888857037552809e-06, 'reg_lambda': 0.035242747047669186, 'max_delta_step': 1.8043471876561783}. Best is trial 13 with value: 0.9191919191919192.\n",
      "[I 2023-07-31 20:13:35,356] Trial 14 finished with value: 0.8888888888888888 and parameters: {'max_depth': 2, 'learning_rate': 0.34876944640128427, 'n_estimators': 670, 'min_child_weight': 4, 'gamma': 7.442867588869104e-06, 'eta': 6.745900262403093e-07, 'subsample': 0.9372421348338871, 'colsample_bytree': 0.15376374152689318, 'reg_alpha': 4.06474929563297e-06, 'reg_lambda': 0.05554559302074441, 'max_delta_step': 1.7805525214897697}. Best is trial 13 with value: 0.9191919191919192.\n",
      "[I 2023-07-31 20:13:35,634] Trial 15 finished with value: 0.8608305274971941 and parameters: {'max_depth': 3, 'learning_rate': 0.10668179255579131, 'n_estimators': 708, 'min_child_weight': 2, 'gamma': 1.1135751607101807e-05, 'eta': 3.993004800993091e-07, 'subsample': 0.09406257864575238, 'colsample_bytree': 0.8166804298743539, 'reg_alpha': 1.189512557992058e-05, 'reg_lambda': 0.06775408266354317, 'max_delta_step': 1.9884857591669964}. Best is trial 13 with value: 0.9191919191919192.\n",
      "[I 2023-07-31 20:13:35,857] Trial 16 finished with value: 0.9046015712682379 and parameters: {'max_depth': 2, 'learning_rate': 0.3773892047831601, 'n_estimators': 564, 'min_child_weight': 2, 'gamma': 0.0008435556341790533, 'eta': 1.0692588687041574e-08, 'subsample': 0.37346202150201835, 'colsample_bytree': 0.42097435413089823, 'reg_alpha': 3.5124779965759846e-07, 'reg_lambda': 0.00040789701947287953, 'max_delta_step': 2.174506247349726}. Best is trial 13 with value: 0.9191919191919192.\n"
     ]
    },
    {
     "name": "stderr",
     "output_type": "stream",
     "text": [
      "[I 2023-07-31 20:13:36,082] Trial 17 finished with value: 0.8641975308641975 and parameters: {'max_depth': 3, 'learning_rate': 0.2406064514125719, 'n_estimators': 569, 'min_child_weight': 4, 'gamma': 0.0007398141696356087, 'eta': 1.1535927206330385e-08, 'subsample': 0.4159538441367317, 'colsample_bytree': 0.12567634607000436, 'reg_alpha': 1.0099223392449892e-08, 'reg_lambda': 0.00028524895247586743, 'max_delta_step': 2.1578852760265423}. Best is trial 13 with value: 0.9191919191919192.\n",
      "[I 2023-07-31 20:13:36,376] Trial 18 finished with value: 0.9158249158249159 and parameters: {'max_depth': 3, 'learning_rate': 0.11284953164359855, 'n_estimators': 762, 'min_child_weight': 1, 'gamma': 0.01517381070866274, 'eta': 1.115546540631632e-08, 'subsample': 0.9939245153237033, 'colsample_bytree': 0.3261901771434915, 'reg_alpha': 1.6231994623325662e-07, 'reg_lambda': 8.13590069563021e-05, 'max_delta_step': 2.218751105411229}. Best is trial 13 with value: 0.9191919191919192.\n",
      "[I 2023-07-31 20:13:36,728] Trial 19 finished with value: 0.898989898989899 and parameters: {'max_depth': 3, 'learning_rate': 0.08471877459801326, 'n_estimators': 995, 'min_child_weight': 1, 'gamma': 0.07472924236227445, 'eta': 1.26291202959587e-07, 'subsample': 0.9868424334112507, 'colsample_bytree': 0.23108547987911257, 'reg_alpha': 1.8590253501694516e-07, 'reg_lambda': 6.251450568248188e-05, 'max_delta_step': 2.7261004571026435}. Best is trial 13 with value: 0.9191919191919192.\n"
     ]
    }
   ],
   "source": [
    "study = optuna.create_study(direction='maximize')\n",
    "study.optimize(objective, n_trials=20)"
   ]
  },
  {
   "cell_type": "code",
   "execution_count": 69,
   "id": "0f94c919",
   "metadata": {},
   "outputs": [
    {
     "name": "stdout",
     "output_type": "stream",
     "text": [
      "Number of finished trials: 20\n",
      "Best trial:\n",
      "  Value: 0.9191919191919192\n",
      "  Params: \n",
      "    max_depth: 3\n",
      "    learning_rate: 0.41599546394217274\n",
      "    n_estimators: 650\n",
      "    min_child_weight: 4\n",
      "    gamma: 2.7470632234100735e-05\n",
      "    eta: 3.2215124496019816e-07\n",
      "    subsample: 0.8425594025735899\n",
      "    colsample_bytree: 0.14196032997361496\n",
      "    reg_alpha: 3.888857037552809e-06\n",
      "    reg_lambda: 0.035242747047669186\n",
      "    max_delta_step: 1.8043471876561783\n"
     ]
    }
   ],
   "source": [
    "print('Number of finished trials: {}'.format(len(study.trials)))\n",
    "print('Best trial:')\n",
    "trial = study.best_trial\n",
    "\n",
    "print('  Value: {}'.format(trial.value))\n",
    "print('  Params: ')\n",
    "\n",
    "for key, value in trial.params.items():\n",
    "    print('    {}: {}'.format(key, value))"
   ]
  },
  {
   "cell_type": "code",
   "execution_count": 70,
   "id": "e3256fb3",
   "metadata": {},
   "outputs": [
    {
     "name": "stdout",
     "output_type": "stream",
     "text": [
      "Accuracy after tuning: 90.24%\n",
      "              precision    recall  f1-score   support\n",
      "\n",
      "           0       0.90      0.94      0.92       549\n",
      "           1       0.90      0.84      0.87       342\n",
      "\n",
      "    accuracy                           0.90       891\n",
      "   macro avg       0.90      0.89      0.90       891\n",
      "weighted avg       0.90      0.90      0.90       891\n",
      "\n"
     ]
    }
   ],
   "source": [
    "params = trial.params\n",
    "XGBC = XGBClassifier(**params)\n",
    "XGBC.fit(X_train, Y_train)\n",
    "y_pred = XGBC.predict(X_train)\n",
    "accuracy = accuracy_score(Y_train, y_pred)\n",
    "print(\"Accuracy after tuning: %.2f%%\" % (accuracy * 100.0))\n",
    "print(classification_report(Y_train, y_pred))"
   ]
  },
  {
   "cell_type": "markdown",
   "id": "24efcea2",
   "metadata": {},
   "source": [
    "## Redes Neuronales"
   ]
  },
  {
   "cell_type": "code",
   "execution_count": 114,
   "id": "e02068f3",
   "metadata": {},
   "outputs": [
    {
     "name": "stdout",
     "output_type": "stream",
     "text": [
      "28/28 [==============================] - 0s 1ms/step - loss: 0.3283 - accuracy: 0.8698\n",
      "Accuracy en el conjunto de prueba: 0.8698092103004456\n",
      "28/28 [==============================] - 0s 1ms/step\n",
      "Informe de clasificación:\n",
      "              precision    recall  f1-score   support\n",
      "\n",
      "           0       0.84      0.97      0.90       549\n",
      "           1       0.94      0.71      0.81       342\n",
      "\n",
      "    accuracy                           0.87       891\n",
      "   macro avg       0.89      0.84      0.85       891\n",
      "weighted avg       0.88      0.87      0.87       891\n",
      "\n"
     ]
    }
   ],
   "source": [
    "# Construir el modelo de Red Neuronal Feedforward (DNN)\n",
    "model_tf = tf.keras.Sequential([\n",
    "    layers.Dense(128, activation='relu', input_shape=(X_train.shape[1],), kernel_regularizer=tf.keras.regularizers.L2(0.01) ),\n",
    "    layers.Dropout(0.5),\n",
    "    layers.Dense(128, activation='relu'),\n",
    "    layers.Dropout(0.5),\n",
    "    layers.Dense(128, activation='relu'),\n",
    "    layers.Dropout(0.5),\n",
    "    layers.Dense(1, activation='sigmoid')\n",
    "])\n",
    "\n",
    "# Compilar el modelo\n",
    "model_tf.compile(optimizer=\"adam\", loss='binary_crossentropy', metrics=['accuracy'])\n",
    "\n",
    "# Entrenar el modelo\n",
    "history = model_tf.fit(X_train, Y_train,epochs=2000, batch_size=32, verbose=False)\n",
    "\n",
    "# Evaluar el modelo en el conjunto de prueba\n",
    "_, accuracy = model_tf.evaluate(X_train, Y_train)\n",
    "print(\"Accuracy en el conjunto de prueba:\", accuracy)\n",
    "\n",
    "# Hacer predicciones en el conjunto de prueba\n",
    "y_pred_prob = model_tf.predict(X_train)\n",
    "y_pred = np.round(y_pred_prob).flatten()\n",
    "\n",
    "print(\"Informe de clasificación:\")\n",
    "print(classification_report(Y_train, y_pred))"
   ]
  },
  {
   "cell_type": "markdown",
   "id": "9ff00903",
   "metadata": {},
   "source": [
    "## Realizamos el test para enviar las predicciones a Kaggle"
   ]
  },
  {
   "cell_type": "code",
   "execution_count": 27,
   "id": "154daaf9",
   "metadata": {},
   "outputs": [
    {
     "data": {
      "text/html": [
       "<div>\n",
       "<style scoped>\n",
       "    .dataframe tbody tr th:only-of-type {\n",
       "        vertical-align: middle;\n",
       "    }\n",
       "\n",
       "    .dataframe tbody tr th {\n",
       "        vertical-align: top;\n",
       "    }\n",
       "\n",
       "    .dataframe thead th {\n",
       "        text-align: right;\n",
       "    }\n",
       "</style>\n",
       "<table border=\"1\" class=\"dataframe\">\n",
       "  <thead>\n",
       "    <tr style=\"text-align: right;\">\n",
       "      <th></th>\n",
       "      <th>Pclass</th>\n",
       "      <th>Name</th>\n",
       "      <th>Sex</th>\n",
       "      <th>Age</th>\n",
       "      <th>SibSp</th>\n",
       "      <th>Parch</th>\n",
       "      <th>Ticket</th>\n",
       "      <th>Fare</th>\n",
       "      <th>Cabin</th>\n",
       "      <th>Embarked</th>\n",
       "    </tr>\n",
       "    <tr>\n",
       "      <th>PassengerId</th>\n",
       "      <th></th>\n",
       "      <th></th>\n",
       "      <th></th>\n",
       "      <th></th>\n",
       "      <th></th>\n",
       "      <th></th>\n",
       "      <th></th>\n",
       "      <th></th>\n",
       "      <th></th>\n",
       "      <th></th>\n",
       "    </tr>\n",
       "  </thead>\n",
       "  <tbody>\n",
       "    <tr>\n",
       "      <th>892</th>\n",
       "      <td>3</td>\n",
       "      <td>Kelly, Mr. James</td>\n",
       "      <td>male</td>\n",
       "      <td>34.5</td>\n",
       "      <td>0</td>\n",
       "      <td>0</td>\n",
       "      <td>330911</td>\n",
       "      <td>7.8292</td>\n",
       "      <td>NaN</td>\n",
       "      <td>Q</td>\n",
       "    </tr>\n",
       "    <tr>\n",
       "      <th>893</th>\n",
       "      <td>3</td>\n",
       "      <td>Wilkes, Mrs. James (Ellen Needs)</td>\n",
       "      <td>female</td>\n",
       "      <td>47.0</td>\n",
       "      <td>1</td>\n",
       "      <td>0</td>\n",
       "      <td>363272</td>\n",
       "      <td>7.0000</td>\n",
       "      <td>NaN</td>\n",
       "      <td>S</td>\n",
       "    </tr>\n",
       "    <tr>\n",
       "      <th>894</th>\n",
       "      <td>2</td>\n",
       "      <td>Myles, Mr. Thomas Francis</td>\n",
       "      <td>male</td>\n",
       "      <td>62.0</td>\n",
       "      <td>0</td>\n",
       "      <td>0</td>\n",
       "      <td>240276</td>\n",
       "      <td>9.6875</td>\n",
       "      <td>NaN</td>\n",
       "      <td>Q</td>\n",
       "    </tr>\n",
       "    <tr>\n",
       "      <th>895</th>\n",
       "      <td>3</td>\n",
       "      <td>Wirz, Mr. Albert</td>\n",
       "      <td>male</td>\n",
       "      <td>27.0</td>\n",
       "      <td>0</td>\n",
       "      <td>0</td>\n",
       "      <td>315154</td>\n",
       "      <td>8.6625</td>\n",
       "      <td>NaN</td>\n",
       "      <td>S</td>\n",
       "    </tr>\n",
       "    <tr>\n",
       "      <th>896</th>\n",
       "      <td>3</td>\n",
       "      <td>Hirvonen, Mrs. Alexander (Helga E Lindqvist)</td>\n",
       "      <td>female</td>\n",
       "      <td>22.0</td>\n",
       "      <td>1</td>\n",
       "      <td>1</td>\n",
       "      <td>3101298</td>\n",
       "      <td>12.2875</td>\n",
       "      <td>NaN</td>\n",
       "      <td>S</td>\n",
       "    </tr>\n",
       "  </tbody>\n",
       "</table>\n",
       "</div>"
      ],
      "text/plain": [
       "             Pclass                                          Name     Sex  \\\n",
       "PassengerId                                                                 \n",
       "892               3                              Kelly, Mr. James    male   \n",
       "893               3              Wilkes, Mrs. James (Ellen Needs)  female   \n",
       "894               2                     Myles, Mr. Thomas Francis    male   \n",
       "895               3                              Wirz, Mr. Albert    male   \n",
       "896               3  Hirvonen, Mrs. Alexander (Helga E Lindqvist)  female   \n",
       "\n",
       "              Age  SibSp  Parch   Ticket     Fare Cabin Embarked  \n",
       "PassengerId                                                       \n",
       "892          34.5      0      0   330911   7.8292   NaN        Q  \n",
       "893          47.0      1      0   363272   7.0000   NaN        S  \n",
       "894          62.0      0      0   240276   9.6875   NaN        Q  \n",
       "895          27.0      0      0   315154   8.6625   NaN        S  \n",
       "896          22.0      1      1  3101298  12.2875   NaN        S  "
      ]
     },
     "execution_count": 27,
     "metadata": {},
     "output_type": "execute_result"
    }
   ],
   "source": [
    "# Evaluacion sobre el Test\n",
    "test = pd.read_csv(r\"C:\\Users\\GUSTAVO\\Desktop\\GustavoALL\\Cursos\\01_ Bases de datos para Practicar\\Titanic\\test.csv\", index_col=\"PassengerId\")\n",
    "test.head()"
   ]
  },
  {
   "cell_type": "code",
   "execution_count": 28,
   "id": "c05f8f43",
   "metadata": {},
   "outputs": [
    {
     "name": "stdout",
     "output_type": "stream",
     "text": [
      "<class 'pandas.core.frame.DataFrame'>\n",
      "Int64Index: 418 entries, 892 to 1309\n",
      "Data columns (total 10 columns):\n",
      " #   Column    Non-Null Count  Dtype  \n",
      "---  ------    --------------  -----  \n",
      " 0   Pclass    418 non-null    int64  \n",
      " 1   Name      418 non-null    object \n",
      " 2   Sex       418 non-null    object \n",
      " 3   Age       332 non-null    float64\n",
      " 4   SibSp     418 non-null    int64  \n",
      " 5   Parch     418 non-null    int64  \n",
      " 6   Ticket    418 non-null    object \n",
      " 7   Fare      417 non-null    float64\n",
      " 8   Cabin     91 non-null     object \n",
      " 9   Embarked  418 non-null    object \n",
      "dtypes: float64(2), int64(3), object(5)\n",
      "memory usage: 35.9+ KB\n"
     ]
    }
   ],
   "source": [
    "test.info()"
   ]
  },
  {
   "cell_type": "code",
   "execution_count": 29,
   "id": "f51f6135",
   "metadata": {},
   "outputs": [],
   "source": [
    "del test[\"Ticket\"]\n",
    "del test[\"Cabin\"]"
   ]
  },
  {
   "cell_type": "code",
   "execution_count": 30,
   "id": "081a745b",
   "metadata": {},
   "outputs": [],
   "source": [
    "test[\"Parch_cat\"]= np.where(test[\"Parch\"] > 0, 1,0)\n",
    "test[\"SibSp_cat\"]= np.where(test[\"SibSp\"] > 0, 1,0)\n",
    "del test[\"SibSp\"]\n",
    "del test[\"Parch\"]"
   ]
  },
  {
   "cell_type": "code",
   "execution_count": 31,
   "id": "f8f62818",
   "metadata": {},
   "outputs": [],
   "source": [
    "name_DF2 = test['Name'].str.split(' ', expand=True)\n",
    "del test[\"Name\"]\n",
    "test[\"Name\"] = name_DF2.iloc[:,1]"
   ]
  },
  {
   "cell_type": "code",
   "execution_count": 32,
   "id": "cb41f2cd",
   "metadata": {},
   "outputs": [],
   "source": [
    "name2 = []\n",
    "for i in test[\"Name\"]:\n",
    "    if i == \"Mr.\" or i == \"Miss.\" or i == \"Mrs.\" or i == \"Master.\" or i == \"Dr.\" or i == \"Rev.\":\n",
    "        name2.append(i)\n",
    "    else:\n",
    "        name2.append(\"Otros\")"
   ]
  },
  {
   "cell_type": "code",
   "execution_count": 33,
   "id": "d2f1dd33",
   "metadata": {},
   "outputs": [],
   "source": [
    "del test[\"Name\"]\n",
    "test[\"Name\"] = name2"
   ]
  },
  {
   "cell_type": "code",
   "execution_count": 34,
   "id": "09a889b5",
   "metadata": {},
   "outputs": [
    {
     "data": {
      "text/html": [
       "<div>\n",
       "<style scoped>\n",
       "    .dataframe tbody tr th:only-of-type {\n",
       "        vertical-align: middle;\n",
       "    }\n",
       "\n",
       "    .dataframe tbody tr th {\n",
       "        vertical-align: top;\n",
       "    }\n",
       "\n",
       "    .dataframe thead th {\n",
       "        text-align: right;\n",
       "    }\n",
       "</style>\n",
       "<table border=\"1\" class=\"dataframe\">\n",
       "  <thead>\n",
       "    <tr style=\"text-align: right;\">\n",
       "      <th></th>\n",
       "      <th>Age</th>\n",
       "      <th>Fare</th>\n",
       "      <th>Parch_cat</th>\n",
       "      <th>SibSp_cat</th>\n",
       "      <th>Pclass_1</th>\n",
       "      <th>Pclass_2</th>\n",
       "      <th>Pclass_3</th>\n",
       "      <th>Sex_female</th>\n",
       "      <th>Sex_male</th>\n",
       "      <th>Embarked_C</th>\n",
       "      <th>Embarked_Q</th>\n",
       "      <th>Embarked_S</th>\n",
       "      <th>Name_Dr.</th>\n",
       "      <th>Name_Master.</th>\n",
       "      <th>Name_Miss.</th>\n",
       "      <th>Name_Mr.</th>\n",
       "      <th>Name_Mrs.</th>\n",
       "      <th>Name_Otros</th>\n",
       "      <th>Name_Rev.</th>\n",
       "    </tr>\n",
       "    <tr>\n",
       "      <th>PassengerId</th>\n",
       "      <th></th>\n",
       "      <th></th>\n",
       "      <th></th>\n",
       "      <th></th>\n",
       "      <th></th>\n",
       "      <th></th>\n",
       "      <th></th>\n",
       "      <th></th>\n",
       "      <th></th>\n",
       "      <th></th>\n",
       "      <th></th>\n",
       "      <th></th>\n",
       "      <th></th>\n",
       "      <th></th>\n",
       "      <th></th>\n",
       "      <th></th>\n",
       "      <th></th>\n",
       "      <th></th>\n",
       "      <th></th>\n",
       "    </tr>\n",
       "  </thead>\n",
       "  <tbody>\n",
       "    <tr>\n",
       "      <th>892</th>\n",
       "      <td>34.5</td>\n",
       "      <td>7.8292</td>\n",
       "      <td>0</td>\n",
       "      <td>0</td>\n",
       "      <td>0</td>\n",
       "      <td>0</td>\n",
       "      <td>1</td>\n",
       "      <td>0</td>\n",
       "      <td>1</td>\n",
       "      <td>0</td>\n",
       "      <td>1</td>\n",
       "      <td>0</td>\n",
       "      <td>0</td>\n",
       "      <td>0</td>\n",
       "      <td>0</td>\n",
       "      <td>1</td>\n",
       "      <td>0</td>\n",
       "      <td>0</td>\n",
       "      <td>0</td>\n",
       "    </tr>\n",
       "    <tr>\n",
       "      <th>893</th>\n",
       "      <td>47.0</td>\n",
       "      <td>7.0000</td>\n",
       "      <td>0</td>\n",
       "      <td>1</td>\n",
       "      <td>0</td>\n",
       "      <td>0</td>\n",
       "      <td>1</td>\n",
       "      <td>1</td>\n",
       "      <td>0</td>\n",
       "      <td>0</td>\n",
       "      <td>0</td>\n",
       "      <td>1</td>\n",
       "      <td>0</td>\n",
       "      <td>0</td>\n",
       "      <td>0</td>\n",
       "      <td>0</td>\n",
       "      <td>1</td>\n",
       "      <td>0</td>\n",
       "      <td>0</td>\n",
       "    </tr>\n",
       "    <tr>\n",
       "      <th>894</th>\n",
       "      <td>62.0</td>\n",
       "      <td>9.6875</td>\n",
       "      <td>0</td>\n",
       "      <td>0</td>\n",
       "      <td>0</td>\n",
       "      <td>1</td>\n",
       "      <td>0</td>\n",
       "      <td>0</td>\n",
       "      <td>1</td>\n",
       "      <td>0</td>\n",
       "      <td>1</td>\n",
       "      <td>0</td>\n",
       "      <td>0</td>\n",
       "      <td>0</td>\n",
       "      <td>0</td>\n",
       "      <td>1</td>\n",
       "      <td>0</td>\n",
       "      <td>0</td>\n",
       "      <td>0</td>\n",
       "    </tr>\n",
       "    <tr>\n",
       "      <th>895</th>\n",
       "      <td>27.0</td>\n",
       "      <td>8.6625</td>\n",
       "      <td>0</td>\n",
       "      <td>0</td>\n",
       "      <td>0</td>\n",
       "      <td>0</td>\n",
       "      <td>1</td>\n",
       "      <td>0</td>\n",
       "      <td>1</td>\n",
       "      <td>0</td>\n",
       "      <td>0</td>\n",
       "      <td>1</td>\n",
       "      <td>0</td>\n",
       "      <td>0</td>\n",
       "      <td>0</td>\n",
       "      <td>1</td>\n",
       "      <td>0</td>\n",
       "      <td>0</td>\n",
       "      <td>0</td>\n",
       "    </tr>\n",
       "    <tr>\n",
       "      <th>896</th>\n",
       "      <td>22.0</td>\n",
       "      <td>12.2875</td>\n",
       "      <td>1</td>\n",
       "      <td>1</td>\n",
       "      <td>0</td>\n",
       "      <td>0</td>\n",
       "      <td>1</td>\n",
       "      <td>1</td>\n",
       "      <td>0</td>\n",
       "      <td>0</td>\n",
       "      <td>0</td>\n",
       "      <td>1</td>\n",
       "      <td>0</td>\n",
       "      <td>0</td>\n",
       "      <td>0</td>\n",
       "      <td>0</td>\n",
       "      <td>1</td>\n",
       "      <td>0</td>\n",
       "      <td>0</td>\n",
       "    </tr>\n",
       "  </tbody>\n",
       "</table>\n",
       "</div>"
      ],
      "text/plain": [
       "              Age     Fare  Parch_cat  SibSp_cat  Pclass_1  Pclass_2  \\\n",
       "PassengerId                                                            \n",
       "892          34.5   7.8292          0          0         0         0   \n",
       "893          47.0   7.0000          0          1         0         0   \n",
       "894          62.0   9.6875          0          0         0         1   \n",
       "895          27.0   8.6625          0          0         0         0   \n",
       "896          22.0  12.2875          1          1         0         0   \n",
       "\n",
       "             Pclass_3  Sex_female  Sex_male  Embarked_C  Embarked_Q  \\\n",
       "PassengerId                                                           \n",
       "892                 1           0         1           0           1   \n",
       "893                 1           1         0           0           0   \n",
       "894                 0           0         1           0           1   \n",
       "895                 1           0         1           0           0   \n",
       "896                 1           1         0           0           0   \n",
       "\n",
       "             Embarked_S  Name_Dr.  Name_Master.  Name_Miss.  Name_Mr.  \\\n",
       "PassengerId                                                             \n",
       "892                   0         0             0           0         1   \n",
       "893                   1         0             0           0         0   \n",
       "894                   0         0             0           0         1   \n",
       "895                   1         0             0           0         1   \n",
       "896                   1         0             0           0         0   \n",
       "\n",
       "             Name_Mrs.  Name_Otros  Name_Rev.  \n",
       "PassengerId                                    \n",
       "892                  0           0          0  \n",
       "893                  1           0          0  \n",
       "894                  0           0          0  \n",
       "895                  0           0          0  \n",
       "896                  1           0          0  "
      ]
     },
     "execution_count": 34,
     "metadata": {},
     "output_type": "execute_result"
    }
   ],
   "source": [
    "test = pd.get_dummies(test, columns=[\"Pclass\", \"Sex\", \"Embarked\", \"Name\"], \n",
    "                      prefix=[\"Pclass\", \"Sex\", \"Embarked\", \"Name\"])\n",
    "test.head()"
   ]
  },
  {
   "cell_type": "code",
   "execution_count": 35,
   "id": "b7c033d7",
   "metadata": {},
   "outputs": [],
   "source": [
    "del test[\"Pclass_2\"]\n",
    "del test[\"Sex_female\"]\n",
    "del test[\"Embarked_Q\"]\n",
    "del test[\"Name_Rev.\"]"
   ]
  },
  {
   "cell_type": "code",
   "execution_count": 36,
   "id": "dcc2481c",
   "metadata": {},
   "outputs": [
    {
     "data": {
      "text/plain": [
       "Age             86\n",
       "Fare             1\n",
       "Parch_cat        0\n",
       "SibSp_cat        0\n",
       "Pclass_1         0\n",
       "Pclass_3         0\n",
       "Sex_male         0\n",
       "Embarked_C       0\n",
       "Embarked_S       0\n",
       "Name_Dr.         0\n",
       "Name_Master.     0\n",
       "Name_Miss.       0\n",
       "Name_Mr.         0\n",
       "Name_Mrs.        0\n",
       "Name_Otros       0\n",
       "dtype: int64"
      ]
     },
     "execution_count": 36,
     "metadata": {},
     "output_type": "execute_result"
    }
   ],
   "source": [
    "test.isnull().sum()"
   ]
  },
  {
   "cell_type": "code",
   "execution_count": 37,
   "id": "c0c931ec",
   "metadata": {},
   "outputs": [],
   "source": [
    "test_index = test.index"
   ]
  },
  {
   "cell_type": "code",
   "execution_count": 38,
   "id": "25e85822",
   "metadata": {},
   "outputs": [
    {
     "data": {
      "text/html": [
       "<div>\n",
       "<style scoped>\n",
       "    .dataframe tbody tr th:only-of-type {\n",
       "        vertical-align: middle;\n",
       "    }\n",
       "\n",
       "    .dataframe tbody tr th {\n",
       "        vertical-align: top;\n",
       "    }\n",
       "\n",
       "    .dataframe thead th {\n",
       "        text-align: right;\n",
       "    }\n",
       "</style>\n",
       "<table border=\"1\" class=\"dataframe\">\n",
       "  <thead>\n",
       "    <tr style=\"text-align: right;\">\n",
       "      <th></th>\n",
       "      <th>Age</th>\n",
       "      <th>Fare</th>\n",
       "      <th>Parch_cat</th>\n",
       "      <th>SibSp_cat</th>\n",
       "      <th>Pclass_1</th>\n",
       "      <th>Pclass_3</th>\n",
       "      <th>Sex_male</th>\n",
       "      <th>Embarked_C</th>\n",
       "      <th>Embarked_S</th>\n",
       "      <th>Name_Dr.</th>\n",
       "      <th>Name_Master.</th>\n",
       "      <th>Name_Miss.</th>\n",
       "      <th>Name_Mr.</th>\n",
       "      <th>Name_Mrs.</th>\n",
       "      <th>Name_Otros</th>\n",
       "    </tr>\n",
       "  </thead>\n",
       "  <tbody>\n",
       "    <tr>\n",
       "      <th>0</th>\n",
       "      <td>34.5</td>\n",
       "      <td>7.8292</td>\n",
       "      <td>0.0</td>\n",
       "      <td>0.0</td>\n",
       "      <td>0.0</td>\n",
       "      <td>1.0</td>\n",
       "      <td>1.0</td>\n",
       "      <td>0.0</td>\n",
       "      <td>0.0</td>\n",
       "      <td>0.0</td>\n",
       "      <td>0.0</td>\n",
       "      <td>0.0</td>\n",
       "      <td>1.0</td>\n",
       "      <td>0.0</td>\n",
       "      <td>0.0</td>\n",
       "    </tr>\n",
       "    <tr>\n",
       "      <th>1</th>\n",
       "      <td>47.0</td>\n",
       "      <td>7.0000</td>\n",
       "      <td>0.0</td>\n",
       "      <td>1.0</td>\n",
       "      <td>0.0</td>\n",
       "      <td>1.0</td>\n",
       "      <td>0.0</td>\n",
       "      <td>0.0</td>\n",
       "      <td>1.0</td>\n",
       "      <td>0.0</td>\n",
       "      <td>0.0</td>\n",
       "      <td>0.0</td>\n",
       "      <td>0.0</td>\n",
       "      <td>1.0</td>\n",
       "      <td>0.0</td>\n",
       "    </tr>\n",
       "    <tr>\n",
       "      <th>2</th>\n",
       "      <td>62.0</td>\n",
       "      <td>9.6875</td>\n",
       "      <td>0.0</td>\n",
       "      <td>0.0</td>\n",
       "      <td>0.0</td>\n",
       "      <td>0.0</td>\n",
       "      <td>1.0</td>\n",
       "      <td>0.0</td>\n",
       "      <td>0.0</td>\n",
       "      <td>0.0</td>\n",
       "      <td>0.0</td>\n",
       "      <td>0.0</td>\n",
       "      <td>1.0</td>\n",
       "      <td>0.0</td>\n",
       "      <td>0.0</td>\n",
       "    </tr>\n",
       "    <tr>\n",
       "      <th>3</th>\n",
       "      <td>27.0</td>\n",
       "      <td>8.6625</td>\n",
       "      <td>0.0</td>\n",
       "      <td>0.0</td>\n",
       "      <td>0.0</td>\n",
       "      <td>1.0</td>\n",
       "      <td>1.0</td>\n",
       "      <td>0.0</td>\n",
       "      <td>1.0</td>\n",
       "      <td>0.0</td>\n",
       "      <td>0.0</td>\n",
       "      <td>0.0</td>\n",
       "      <td>1.0</td>\n",
       "      <td>0.0</td>\n",
       "      <td>0.0</td>\n",
       "    </tr>\n",
       "    <tr>\n",
       "      <th>4</th>\n",
       "      <td>22.0</td>\n",
       "      <td>12.2875</td>\n",
       "      <td>1.0</td>\n",
       "      <td>1.0</td>\n",
       "      <td>0.0</td>\n",
       "      <td>1.0</td>\n",
       "      <td>0.0</td>\n",
       "      <td>0.0</td>\n",
       "      <td>1.0</td>\n",
       "      <td>0.0</td>\n",
       "      <td>0.0</td>\n",
       "      <td>0.0</td>\n",
       "      <td>0.0</td>\n",
       "      <td>1.0</td>\n",
       "      <td>0.0</td>\n",
       "    </tr>\n",
       "  </tbody>\n",
       "</table>\n",
       "</div>"
      ],
      "text/plain": [
       "    Age     Fare  Parch_cat  SibSp_cat  Pclass_1  Pclass_3  Sex_male  \\\n",
       "0  34.5   7.8292        0.0        0.0       0.0       1.0       1.0   \n",
       "1  47.0   7.0000        0.0        1.0       0.0       1.0       0.0   \n",
       "2  62.0   9.6875        0.0        0.0       0.0       0.0       1.0   \n",
       "3  27.0   8.6625        0.0        0.0       0.0       1.0       1.0   \n",
       "4  22.0  12.2875        1.0        1.0       0.0       1.0       0.0   \n",
       "\n",
       "   Embarked_C  Embarked_S  Name_Dr.  Name_Master.  Name_Miss.  Name_Mr.  \\\n",
       "0         0.0         0.0       0.0           0.0         0.0       1.0   \n",
       "1         0.0         1.0       0.0           0.0         0.0       0.0   \n",
       "2         0.0         0.0       0.0           0.0         0.0       1.0   \n",
       "3         0.0         1.0       0.0           0.0         0.0       1.0   \n",
       "4         0.0         1.0       0.0           0.0         0.0       0.0   \n",
       "\n",
       "   Name_Mrs.  Name_Otros  \n",
       "0        0.0         0.0  \n",
       "1        1.0         0.0  \n",
       "2        0.0         0.0  \n",
       "3        0.0         0.0  \n",
       "4        1.0         0.0  "
      ]
     },
     "execution_count": 38,
     "metadata": {},
     "output_type": "execute_result"
    }
   ],
   "source": [
    "# Imputar los valores faltantes en el DataFrame con variables numéricas\n",
    "test = pd.DataFrame(knn_imputer.fit_transform(test), columns=test.columns)\n",
    "test.head()"
   ]
  },
  {
   "cell_type": "code",
   "execution_count": 39,
   "id": "52cec39e",
   "metadata": {},
   "outputs": [
    {
     "data": {
      "text/plain": [
       "Age             0\n",
       "Fare            0\n",
       "Parch_cat       0\n",
       "SibSp_cat       0\n",
       "Pclass_1        0\n",
       "Pclass_3        0\n",
       "Sex_male        0\n",
       "Embarked_C      0\n",
       "Embarked_S      0\n",
       "Name_Dr.        0\n",
       "Name_Master.    0\n",
       "Name_Miss.      0\n",
       "Name_Mr.        0\n",
       "Name_Mrs.       0\n",
       "Name_Otros      0\n",
       "dtype: int64"
      ]
     },
     "execution_count": 39,
     "metadata": {},
     "output_type": "execute_result"
    }
   ],
   "source": [
    "test.isnull().sum()"
   ]
  },
  {
   "cell_type": "code",
   "execution_count": 40,
   "id": "691a851f",
   "metadata": {},
   "outputs": [],
   "source": [
    "Scaled_test = ajuste.transform(test)"
   ]
  },
  {
   "cell_type": "code",
   "execution_count": 116,
   "id": "c83bb600",
   "metadata": {},
   "outputs": [
    {
     "name": "stdout",
     "output_type": "stream",
     "text": [
      "14/14 [==============================] - 0s 1ms/step\n"
     ]
    }
   ],
   "source": [
    "#prediccion de survived\n",
    "y_pred_test = model_tf.predict(Scaled_test)"
   ]
  },
  {
   "cell_type": "code",
   "execution_count": 117,
   "id": "44f5a64a",
   "metadata": {},
   "outputs": [],
   "source": [
    "y_pred_test = np.round(y_pred_test).flatten()"
   ]
  },
  {
   "cell_type": "code",
   "execution_count": 118,
   "id": "8e7117ac",
   "metadata": {},
   "outputs": [
    {
     "data": {
      "text/plain": [
       "126.0"
      ]
     },
     "execution_count": 118,
     "metadata": {},
     "output_type": "execute_result"
    }
   ],
   "source": [
    "y_pred_test.sum()"
   ]
  },
  {
   "cell_type": "code",
   "execution_count": 119,
   "id": "5e324882",
   "metadata": {},
   "outputs": [
    {
     "data": {
      "text/html": [
       "<div>\n",
       "<style scoped>\n",
       "    .dataframe tbody tr th:only-of-type {\n",
       "        vertical-align: middle;\n",
       "    }\n",
       "\n",
       "    .dataframe tbody tr th {\n",
       "        vertical-align: top;\n",
       "    }\n",
       "\n",
       "    .dataframe thead th {\n",
       "        text-align: right;\n",
       "    }\n",
       "</style>\n",
       "<table border=\"1\" class=\"dataframe\">\n",
       "  <thead>\n",
       "    <tr style=\"text-align: right;\">\n",
       "      <th></th>\n",
       "      <th>PassengerId</th>\n",
       "      <th>Survived</th>\n",
       "    </tr>\n",
       "  </thead>\n",
       "  <tbody>\n",
       "    <tr>\n",
       "      <th>0</th>\n",
       "      <td>892</td>\n",
       "      <td>0.0</td>\n",
       "    </tr>\n",
       "    <tr>\n",
       "      <th>1</th>\n",
       "      <td>893</td>\n",
       "      <td>0.0</td>\n",
       "    </tr>\n",
       "    <tr>\n",
       "      <th>2</th>\n",
       "      <td>894</td>\n",
       "      <td>0.0</td>\n",
       "    </tr>\n",
       "    <tr>\n",
       "      <th>3</th>\n",
       "      <td>895</td>\n",
       "      <td>0.0</td>\n",
       "    </tr>\n",
       "    <tr>\n",
       "      <th>4</th>\n",
       "      <td>896</td>\n",
       "      <td>0.0</td>\n",
       "    </tr>\n",
       "  </tbody>\n",
       "</table>\n",
       "</div>"
      ],
      "text/plain": [
       "   PassengerId  Survived\n",
       "0          892       0.0\n",
       "1          893       0.0\n",
       "2          894       0.0\n",
       "3          895       0.0\n",
       "4          896       0.0"
      ]
     },
     "execution_count": 119,
     "metadata": {},
     "output_type": "execute_result"
    }
   ],
   "source": [
    "#Exportamos nuestros datos\n",
    "predicciones = pd.DataFrame()\n",
    "predicciones[\"PassengerId\"] = test_index\n",
    "predicciones[\"Survived\"] = y_pred_test\n",
    "predicciones.head()"
   ]
  },
  {
   "cell_type": "code",
   "execution_count": 120,
   "id": "ed6c5d77",
   "metadata": {},
   "outputs": [],
   "source": [
    "predicciones[\"Survived\"] = predicciones[\"Survived\"].astype(\"int64\")"
   ]
  },
  {
   "cell_type": "code",
   "execution_count": 121,
   "id": "07748964",
   "metadata": {},
   "outputs": [],
   "source": [
    "predicciones.to_csv(\"Gustavo_TITANIC.csv\", index=False)"
   ]
  },
  {
   "cell_type": "markdown",
   "id": "ba2bd5b2",
   "metadata": {},
   "source": [
    "## Los resultados de los modelos para test son:\n",
    "\n",
    "1. CatBoost = 78.47%\n",
    "2. SVC = 78.95%\n",
    "3. RandomForest = 77.99%\n",
    "4. GradientBoosting = 76.56%\n",
    "5. XGBoost = 75.36%\n",
    "6. Sequential = 78.47%"
   ]
  },
  {
   "cell_type": "markdown",
   "id": "ece9db11",
   "metadata": {},
   "source": [
    "**MUCHAS GRACIAS**"
   ]
  }
 ],
 "metadata": {
  "kernelspec": {
   "display_name": "Python 3 (ipykernel)",
   "language": "python",
   "name": "python3"
  },
  "language_info": {
   "codemirror_mode": {
    "name": "ipython",
    "version": 3
   },
   "file_extension": ".py",
   "mimetype": "text/x-python",
   "name": "python",
   "nbconvert_exporter": "python",
   "pygments_lexer": "ipython3",
   "version": "3.11.3"
  }
 },
 "nbformat": 4,
 "nbformat_minor": 5
}
